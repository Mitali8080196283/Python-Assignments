{
 "cells": [
  {
   "cell_type": "markdown",
   "id": "798d5ad4",
   "metadata": {},
   "source": [
    "# String Based Assignment Problem\n"
   ]
  },
  {
   "cell_type": "markdown",
   "id": "c3f275dd",
   "metadata": {},
   "source": [
    "### Write a program to reverse a string."
   ]
  },
  {
   "cell_type": "code",
   "execution_count": 1,
   "id": "3646a431",
   "metadata": {},
   "outputs": [
    {
     "name": "stdout",
     "output_type": "stream",
     "text": [
      "pwskills\n",
      "sllikswp\n"
     ]
    }
   ],
   "source": [
    "s=input()\n",
    "rev=s[::-1]\n",
    "print(rev)"
   ]
  },
  {
   "cell_type": "markdown",
   "id": "977f6b42",
   "metadata": {},
   "source": [
    "### Check if a string is a palindrome."
   ]
  },
  {
   "cell_type": "code",
   "execution_count": 5,
   "id": "789bad5b",
   "metadata": {},
   "outputs": [
    {
     "name": "stdout",
     "output_type": "stream",
     "text": [
      "racecar\n",
      "String is Palindrome\n"
     ]
    }
   ],
   "source": [
    "string=input()\n",
    "rev_string=string[::-1]\n",
    "if string==rev_string:\n",
    "    print(\"String is Palindrome\")\n",
    "else:\n",
    "    print(\"String is not Palindrome\")"
   ]
  },
  {
   "cell_type": "markdown",
   "id": "368755bf",
   "metadata": {},
   "source": [
    "### Convert a string to uppercase."
   ]
  },
  {
   "cell_type": "code",
   "execution_count": 8,
   "id": "99f38a54",
   "metadata": {},
   "outputs": [
    {
     "name": "stdout",
     "output_type": "stream",
     "text": [
      "data science\n"
     ]
    },
    {
     "data": {
      "text/plain": [
       "'DATA SCIENCE'"
      ]
     },
     "execution_count": 8,
     "metadata": {},
     "output_type": "execute_result"
    }
   ],
   "source": [
    "s=input()\n",
    "s.upper()"
   ]
  },
  {
   "cell_type": "markdown",
   "id": "db6bcba9",
   "metadata": {},
   "source": [
    "### Convert a string to lowercase. "
   ]
  },
  {
   "cell_type": "code",
   "execution_count": 10,
   "id": "21a561b8",
   "metadata": {},
   "outputs": [
    {
     "name": "stdout",
     "output_type": "stream",
     "text": [
      "PYTHON\n"
     ]
    },
    {
     "data": {
      "text/plain": [
       "'python'"
      ]
     },
     "execution_count": 10,
     "metadata": {},
     "output_type": "execute_result"
    }
   ],
   "source": [
    "s=input()\n",
    "s.lower()"
   ]
  },
  {
   "cell_type": "markdown",
   "id": "171853a8",
   "metadata": {},
   "source": [
    "### Count the number of vowels in a string."
   ]
  },
  {
   "cell_type": "code",
   "execution_count": 1,
   "id": "9c9d489a",
   "metadata": {},
   "outputs": [
    {
     "name": "stdout",
     "output_type": "stream",
     "text": [
      "count of vowels :  1\n"
     ]
    }
   ],
   "source": [
    "s=\"pwskills\"\n",
    "count=0\n",
    "for i in s:\n",
    "    if i=='a' or i=='e' or i=='i' or i=='o' or i=='u':\n",
    "        count=count+1\n",
    "print(\"count of vowels : \",count)"
   ]
  },
  {
   "cell_type": "markdown",
   "id": "71bb663e",
   "metadata": {},
   "source": [
    "### Count the number of consonants in a string."
   ]
  },
  {
   "cell_type": "code",
   "execution_count": 6,
   "id": "1df8a05b",
   "metadata": {},
   "outputs": [
    {
     "name": "stdout",
     "output_type": "stream",
     "text": [
      "count of consonants :  7\n"
     ]
    },
    {
     "data": {
      "text/plain": [
       "8"
      ]
     },
     "execution_count": 6,
     "metadata": {},
     "output_type": "execute_result"
    }
   ],
   "source": [
    "s=\"pwskills\"\n",
    "count=0\n",
    "for i in s:\n",
    "    if i!='a' and i!='e' and i!='i' and i!='o' and i!='u':\n",
    "        count=count+1\n",
    "print(\"count of consonants : \",count)\n",
    "len(s)"
   ]
  },
  {
   "cell_type": "markdown",
   "id": "df86400c",
   "metadata": {},
   "source": [
    "### Remove all whitespaces from a string."
   ]
  },
  {
   "cell_type": "code",
   "execution_count": 3,
   "id": "02c4096a",
   "metadata": {},
   "outputs": [
    {
     "name": "stdout",
     "output_type": "stream",
     "text": [
      "         pwskills           \n"
     ]
    },
    {
     "data": {
      "text/plain": [
       "'pwskills'"
      ]
     },
     "execution_count": 3,
     "metadata": {},
     "output_type": "execute_result"
    }
   ],
   "source": [
    "s=input()\n",
    "s_space=s.strip()\n",
    "s_space"
   ]
  },
  {
   "cell_type": "markdown",
   "id": "2fbd8b89",
   "metadata": {},
   "source": [
    "###  Find the length of a string without using the `len()` function. "
   ]
  },
  {
   "cell_type": "code",
   "execution_count": 23,
   "id": "341d8faa",
   "metadata": {},
   "outputs": [
    {
     "name": "stdout",
     "output_type": "stream",
     "text": [
      "8\n"
     ]
    }
   ],
   "source": [
    "s=\"pwskills\"\n",
    "count=0\n",
    "for i in s:\n",
    "    count=count+1\n",
    "print(count)"
   ]
  },
  {
   "cell_type": "markdown",
   "id": "6e5a6e56",
   "metadata": {},
   "source": [
    "### Check if a string contains a specific word. "
   ]
  },
  {
   "cell_type": "code",
   "execution_count": 25,
   "id": "57942eca",
   "metadata": {},
   "outputs": [
    {
     "name": "stdout",
     "output_type": "stream",
     "text": [
      "True\n"
     ]
    }
   ],
   "source": [
    "s=\"I study in pwskills\"\n",
    "if 'study' in s:\n",
    "    print(True)\n",
    "else:\n",
    "    print(False)"
   ]
  },
  {
   "cell_type": "markdown",
   "id": "193f40f1",
   "metadata": {},
   "source": [
    "### Replace a word in a string with another word."
   ]
  },
  {
   "cell_type": "code",
   "execution_count": 1,
   "id": "f2bd3b77",
   "metadata": {},
   "outputs": [
    {
     "data": {
      "text/plain": [
       "'David was a good king.'"
      ]
     },
     "execution_count": 1,
     "metadata": {},
     "output_type": "execute_result"
    }
   ],
   "source": [
    "s=\"Robert was a good king.\"\n",
    "s1=s.replace(\"Robert\",\"David\")\n",
    "s1"
   ]
  },
  {
   "cell_type": "markdown",
   "id": "1112a0d0",
   "metadata": {},
   "source": [
    "### Count the occurrences of a word in a string. "
   ]
  },
  {
   "cell_type": "code",
   "execution_count": 3,
   "id": "2df5e118",
   "metadata": {},
   "outputs": [
    {
     "data": {
      "text/plain": [
       "4"
      ]
     },
     "execution_count": 3,
     "metadata": {},
     "output_type": "execute_result"
    }
   ],
   "source": [
    "s=\"Fear leads to anger; anger leads to hatred; hatred leads to conflict; conflict leads to suffering.\"\n",
    "s1=s.count(\"leads\")\n",
    "s1"
   ]
  },
  {
   "cell_type": "markdown",
   "id": "c4c19bdb",
   "metadata": {},
   "source": [
    "### Find the first occurrence of a word in a string. "
   ]
  },
  {
   "cell_type": "code",
   "execution_count": 5,
   "id": "aa2bc3ce",
   "metadata": {},
   "outputs": [
    {
     "data": {
      "text/plain": [
       "18"
      ]
     },
     "execution_count": 5,
     "metadata": {},
     "output_type": "execute_result"
    }
   ],
   "source": [
    "s=\"Ask not what your country can do for you; ask what you can do for your country\"\n",
    "s1=s.find(\"country\")\n",
    "s1"
   ]
  },
  {
   "cell_type": "markdown",
   "id": "d7553740",
   "metadata": {},
   "source": [
    "### Find the last occurrence of a word in a string."
   ]
  },
  {
   "cell_type": "code",
   "execution_count": 8,
   "id": "a16ace64",
   "metadata": {},
   "outputs": [
    {
     "data": {
      "text/plain": [
       "71"
      ]
     },
     "execution_count": 8,
     "metadata": {},
     "output_type": "execute_result"
    }
   ],
   "source": [
    "s=\"Ask not what your country can do for you; ask what you can do for your country\"\n",
    "s1=s.find(\"country\",19)\n",
    "s1"
   ]
  },
  {
   "cell_type": "markdown",
   "id": "f7250c6b",
   "metadata": {},
   "source": [
    "### Split a string into a list of words. "
   ]
  },
  {
   "cell_type": "code",
   "execution_count": 9,
   "id": "2b705dd8",
   "metadata": {},
   "outputs": [
    {
     "name": "stdout",
     "output_type": "stream",
     "text": [
      "I participate in competition\n"
     ]
    },
    {
     "data": {
      "text/plain": [
       "['I', 'participate', 'in', 'competition']"
      ]
     },
     "execution_count": 9,
     "metadata": {},
     "output_type": "execute_result"
    }
   ],
   "source": [
    "s=input()\n",
    "s1=s.split()\n",
    "s1"
   ]
  },
  {
   "cell_type": "markdown",
   "id": "d929b596",
   "metadata": {},
   "source": [
    "### Join a list of words into a string. "
   ]
  },
  {
   "cell_type": "code",
   "execution_count": 24,
   "id": "542cbca9",
   "metadata": {},
   "outputs": [
    {
     "data": {
      "text/plain": [
       "'I participate in competition'"
      ]
     },
     "execution_count": 24,
     "metadata": {},
     "output_type": "execute_result"
    }
   ],
   "source": [
    "l=['I', 'participate', 'in', 'competition']\n",
    "s1=' '.join(l)\n",
    "s1"
   ]
  },
  {
   "cell_type": "markdown",
   "id": "f504148f",
   "metadata": {},
   "source": [
    "### Convert a string where words are separated by spaces to one where words are separated by underscores."
   ]
  },
  {
   "cell_type": "code",
   "execution_count": null,
   "id": "17b5a2f5",
   "metadata": {},
   "outputs": [],
   "source": []
  },
  {
   "cell_type": "markdown",
   "id": "22b3776e",
   "metadata": {},
   "source": [
    "### Check if a string starts with a specific word or phrase. "
   ]
  },
  {
   "cell_type": "code",
   "execution_count": 10,
   "id": "d2e22ce5",
   "metadata": {},
   "outputs": [
    {
     "name": "stdout",
     "output_type": "stream",
     "text": [
      "True\n"
     ]
    }
   ],
   "source": [
    "s=\"I study data science\"\n",
    "print(s.startswith(\"I\"))"
   ]
  },
  {
   "cell_type": "markdown",
   "id": "f90f1474",
   "metadata": {},
   "source": [
    "### Check if a string ends with a specific word or phrase."
   ]
  },
  {
   "cell_type": "code",
   "execution_count": 12,
   "id": "ba30ac41",
   "metadata": {},
   "outputs": [
    {
     "name": "stdout",
     "output_type": "stream",
     "text": [
      "False\n"
     ]
    }
   ],
   "source": [
    "s=\"I study data science\"\n",
    "print(s.endswith(\"pwskills\"))"
   ]
  },
  {
   "cell_type": "markdown",
   "id": "8a16ead8",
   "metadata": {},
   "source": [
    "### Convert a string to title case (e.g., \"hello world\" to \"Hello World\")."
   ]
  },
  {
   "cell_type": "code",
   "execution_count": 14,
   "id": "9da9700d",
   "metadata": {},
   "outputs": [
    {
     "name": "stdout",
     "output_type": "stream",
     "text": [
      "hello world\n"
     ]
    },
    {
     "data": {
      "text/plain": [
       "'Hello World'"
      ]
     },
     "execution_count": 14,
     "metadata": {},
     "output_type": "execute_result"
    }
   ],
   "source": [
    "s=input()\n",
    "s1=s.title()\n",
    "s1"
   ]
  },
  {
   "cell_type": "markdown",
   "id": "3de16ba3",
   "metadata": {},
   "source": [
    "### Find the longest word in a string."
   ]
  },
  {
   "cell_type": "code",
   "execution_count": 68,
   "id": "dd948af8",
   "metadata": {},
   "outputs": [
    {
     "name": "stdout",
     "output_type": "stream",
     "text": [
      "longest word is english and position is 19\n"
     ]
    }
   ],
   "source": [
    "s=\"I want to study in english\"\n",
    "a=s.split()\n",
    "longest_word= max(a,key=len)\n",
    "s1= s.index(longest_word)\n",
    "print(f\"longest word is {longest_word} and position is {s1}\")"
   ]
  },
  {
   "cell_type": "markdown",
   "id": "a4ebf82a",
   "metadata": {},
   "source": [
    "### Find the shortest word in a string."
   ]
  },
  {
   "cell_type": "code",
   "execution_count": 82,
   "id": "bb83c348",
   "metadata": {},
   "outputs": [
    {
     "name": "stdout",
     "output_type": "stream",
     "text": [
      "shortest word is I and position is 0\n"
     ]
    }
   ],
   "source": [
    "s=\"I want to study in english\"\n",
    "a=s.split()\n",
    "shortest_word= min(a,key=len)\n",
    "s1= s.index(shortest_word)\n",
    "print(f\"shortest word is {shortest_word} and position is {s1}\")"
   ]
  },
  {
   "cell_type": "markdown",
   "id": "f8210530",
   "metadata": {},
   "source": [
    "###  Reverse the order of words in a string."
   ]
  },
  {
   "cell_type": "code",
   "execution_count": 85,
   "id": "0d8f3b8a",
   "metadata": {},
   "outputs": [
    {
     "name": "stdout",
     "output_type": "stream",
     "text": [
      "I misfit bound earth an just twisted and tied Tongue\n"
     ]
    }
   ],
   "source": [
    "s=\"Tongue tied and twisted just an earth bound misfit I\"\n",
    "s1=s.split()\n",
    "s2=s1[::-1]\n",
    "print(' '.join(s2))"
   ]
  },
  {
   "cell_type": "markdown",
   "id": "39234555",
   "metadata": {},
   "source": [
    "### Check if a string is alphanumeric. "
   ]
  },
  {
   "cell_type": "code",
   "execution_count": 88,
   "id": "90f5c8a3",
   "metadata": {},
   "outputs": [
    {
     "name": "stdout",
     "output_type": "stream",
     "text": [
      "True\n"
     ]
    }
   ],
   "source": [
    "s=\"pwskills\"\n",
    "s1=s.isalnum()\n",
    "print(s1)"
   ]
  },
  {
   "cell_type": "markdown",
   "id": "bc17015a",
   "metadata": {},
   "source": [
    "### Extract all digits from a string."
   ]
  },
  {
   "cell_type": "code",
   "execution_count": 4,
   "id": "857fdeff",
   "metadata": {},
   "outputs": [
    {
     "name": "stdout",
     "output_type": "stream",
     "text": [
      "345678\n"
     ]
    }
   ],
   "source": [
    "s=\"the 3 sky 4 is 5 blue 6 7 8\"\n",
    "s1=\"\"\n",
    "for i in s:\n",
    "    if i.isdigit():\n",
    "        s1=s1+i\n",
    "print(s1)"
   ]
  },
  {
   "cell_type": "markdown",
   "id": "77f396f7",
   "metadata": {},
   "source": [
    "### Extract all alphabets from a string."
   ]
  },
  {
   "cell_type": "code",
   "execution_count": 6,
   "id": "98600f83",
   "metadata": {},
   "outputs": [
    {
     "name": "stdout",
     "output_type": "stream",
     "text": [
      "theskyisblue\n"
     ]
    }
   ],
   "source": [
    "s=\"the 3 sky 4 is 5 blue 6 7 8\"\n",
    "s1=\"\"\n",
    "for i in s:\n",
    "    if i.isalpha():\n",
    "        s1=s1+i\n",
    "print(s1)"
   ]
  },
  {
   "cell_type": "markdown",
   "id": "8503bb62",
   "metadata": {},
   "source": [
    "### Count the number of uppercase letters in a string."
   ]
  },
  {
   "cell_type": "code",
   "execution_count": 7,
   "id": "462ca638",
   "metadata": {},
   "outputs": [
    {
     "name": "stdout",
     "output_type": "stream",
     "text": [
      "uppercase letter : 3\n"
     ]
    }
   ],
   "source": [
    "s=\"PWskillS\"\n",
    "count=0\n",
    "for i in s:\n",
    "    if i.isupper():\n",
    "        count=count+1\n",
    "print(\"uppercase letter :\",count)"
   ]
  },
  {
   "cell_type": "markdown",
   "id": "88a77926",
   "metadata": {},
   "source": [
    "### Count the number of lowercase letters in a string."
   ]
  },
  {
   "cell_type": "code",
   "execution_count": 8,
   "id": "fb01c083",
   "metadata": {},
   "outputs": [
    {
     "name": "stdout",
     "output_type": "stream",
     "text": [
      "lowercase letter : 5\n"
     ]
    }
   ],
   "source": [
    "s=\"PWskillS\"\n",
    "count=0\n",
    "for i in s:\n",
    "    if i.islower():\n",
    "        count=count+1\n",
    "print(\"lowercase letter :\",count)"
   ]
  },
  {
   "cell_type": "markdown",
   "id": "54307a64",
   "metadata": {},
   "source": [
    "### Swap the case of each character in a string."
   ]
  },
  {
   "cell_type": "code",
   "execution_count": 9,
   "id": "f314a246",
   "metadata": {},
   "outputs": [
    {
     "data": {
      "text/plain": [
       "'pwSKILLs'"
      ]
     },
     "execution_count": 9,
     "metadata": {},
     "output_type": "execute_result"
    }
   ],
   "source": [
    "s=\"PWskillS\"\n",
    "s1=s.swapcase()\n",
    "s1"
   ]
  },
  {
   "cell_type": "markdown",
   "id": "aa830285",
   "metadata": {},
   "source": [
    "### Remove a specific word from a string."
   ]
  },
  {
   "cell_type": "code",
   "execution_count": 20,
   "id": "5659078a",
   "metadata": {},
   "outputs": [
    {
     "name": "stdout",
     "output_type": "stream",
     "text": [
      "I learn data science\n",
      "science\n",
      "I learn data\n"
     ]
    }
   ],
   "source": [
    "s=input()\n",
    "word=input()\n",
    "s1=s.split()\n",
    "s1.remove(word)\n",
    "print(' '.join(s1))"
   ]
  },
  {
   "cell_type": "code",
   "execution_count": 25,
   "id": "889edc72",
   "metadata": {},
   "outputs": [
    {
     "data": {
      "text/plain": [
       "'I learn  science'"
      ]
     },
     "execution_count": 25,
     "metadata": {},
     "output_type": "execute_result"
    }
   ],
   "source": [
    "s=\"I learn data science\"\n",
    "s1=s.replace('data','')\n",
    "s1"
   ]
  },
  {
   "cell_type": "markdown",
   "id": "9a4d5efe",
   "metadata": {},
   "source": [
    "###  Check if a string is a valid email address."
   ]
  },
  {
   "cell_type": "code",
   "execution_count": 51,
   "id": "a37fca49",
   "metadata": {},
   "outputs": [
    {
     "name": "stdout",
     "output_type": "stream",
     "text": [
      "True\n"
     ]
    }
   ],
   "source": [
    "s=\"abc@gmail.com\"\n",
    "print(s[0].isalpha() and s.endswith(\"@gmail.com\"))"
   ]
  },
  {
   "cell_type": "markdown",
   "id": "eb73c0dd",
   "metadata": {},
   "source": [
    "### Extract the username from an email address string. "
   ]
  },
  {
   "cell_type": "code",
   "execution_count": 43,
   "id": "4076512c",
   "metadata": {},
   "outputs": [
    {
     "name": "stdout",
     "output_type": "stream",
     "text": [
      "abc\n"
     ]
    }
   ],
   "source": [
    "s=\"abc@gmail.com\"\n",
    "s1=s.split('@')\n",
    "username=s1[0]\n",
    "print(username)"
   ]
  },
  {
   "cell_type": "markdown",
   "id": "af97ffb6",
   "metadata": {},
   "source": [
    "### Extract the domain name from an email address string. "
   ]
  },
  {
   "cell_type": "code",
   "execution_count": 44,
   "id": "c3cc2367",
   "metadata": {},
   "outputs": [
    {
     "name": "stdout",
     "output_type": "stream",
     "text": [
      "gmail.com\n"
     ]
    }
   ],
   "source": [
    "s=\"abc@gmail.com\"\n",
    "s1=s.split('@')\n",
    "domain_name=s1[1]\n",
    "print(domain_name)"
   ]
  },
  {
   "cell_type": "markdown",
   "id": "65b1bcab",
   "metadata": {},
   "source": [
    "### Replace multiple spaces in a string with a single space."
   ]
  },
  {
   "cell_type": "code",
   "execution_count": 66,
   "id": "45416fde",
   "metadata": {},
   "outputs": [
    {
     "data": {
      "text/plain": [
       "'pwskills'"
      ]
     },
     "execution_count": 66,
     "metadata": {},
     "output_type": "execute_result"
    }
   ],
   "source": [
    "s=\"     p w     s k i l l     s      \"\n",
    "s1=\"\".join(s.split())\n",
    "s1"
   ]
  },
  {
   "cell_type": "markdown",
   "id": "b060758a",
   "metadata": {},
   "source": [
    "### Check if a string is a valid URL."
   ]
  },
  {
   "cell_type": "code",
   "execution_count": 2,
   "id": "1a29931e",
   "metadata": {},
   "outputs": [
    {
     "name": "stdout",
     "output_type": "stream",
     "text": [
      "Collecting validators\n",
      "  Downloading validators-0.22.0-py3-none-any.whl (26 kB)\n",
      "Installing collected packages: validators\n",
      "Successfully installed validators-0.22.0\n",
      "Note: you may need to restart the kernel to use updated packages.\n"
     ]
    }
   ],
   "source": [
    "pip install validators"
   ]
  },
  {
   "cell_type": "code",
   "execution_count": 4,
   "id": "356f9320",
   "metadata": {},
   "outputs": [
    {
     "name": "stdout",
     "output_type": "stream",
     "text": [
      "Url is valid\n"
     ]
    }
   ],
   "source": [
    "import validators\n",
    "valid=validators.url('https://www.greeksforgeek.com')\n",
    "if valid==True:\n",
    "    print(\"Url is valid\")\n",
    "else:\n",
    "    print(\"Invalid url\")"
   ]
  },
  {
   "cell_type": "markdown",
   "id": "c235dafc",
   "metadata": {},
   "source": [
    "### Extract the protocol (http or https) from a URL string. "
   ]
  },
  {
   "cell_type": "code",
   "execution_count": 4,
   "id": "056b9a1d",
   "metadata": {},
   "outputs": [
    {
     "name": "stdout",
     "output_type": "stream",
     "text": [
      "https\n"
     ]
    }
   ],
   "source": [
    "s=\"https://www.greeksforgeek.com\"\n",
    "s1=s.split(\":\")\n",
    "print(s1[0])"
   ]
  },
  {
   "cell_type": "markdown",
   "id": "f12b8e49",
   "metadata": {},
   "source": [
    "### Find the frequency of each character in a string."
   ]
  },
  {
   "cell_type": "code",
   "execution_count": 12,
   "id": "84da7422",
   "metadata": {},
   "outputs": [
    {
     "name": "stdout",
     "output_type": "stream",
     "text": [
      "p 1\n",
      "a 3\n",
      "r 2\n",
      "a 3\n",
      "l 3\n",
      "l 3\n",
      "e 1\n",
      "l 3\n",
      "o 1\n",
      "g 1\n",
      "r 2\n",
      "a 3\n",
      "m 1\n"
     ]
    }
   ],
   "source": [
    "s=\"parallelogram\"\n",
    "for i in s:\n",
    "    s1=s.count(i)\n",
    "    print(str(i),str(s1))"
   ]
  },
  {
   "cell_type": "markdown",
   "id": "d2dffcdd",
   "metadata": {},
   "source": [
    "### Remove all punctuation from a string. "
   ]
  },
  {
   "cell_type": "code",
   "execution_count": 18,
   "id": "47b791c2",
   "metadata": {},
   "outputs": [
    {
     "name": "stdout",
     "output_type": "stream",
     "text": [
      "yellolife"
     ]
    }
   ],
   "source": [
    "s=\"yello , life!\"\n",
    "for i in s:\n",
    "    if i.isalnum():\n",
    "        print(i,end=\"\")"
   ]
  },
  {
   "cell_type": "markdown",
   "id": "edc0c8e8",
   "metadata": {},
   "source": [
    "### Check if a string contains only digits. "
   ]
  },
  {
   "cell_type": "code",
   "execution_count": 1,
   "id": "33f67c8a",
   "metadata": {},
   "outputs": [
    {
     "name": "stdout",
     "output_type": "stream",
     "text": [
      "String contains only digits\n"
     ]
    }
   ],
   "source": [
    "my_string = \"12345\"\n",
    "if my_string.isdigit():\n",
    "    print(\"String contains only digits\")\n",
    "else:\n",
    "    print(\"String contains non-digit characters\")"
   ]
  },
  {
   "cell_type": "markdown",
   "id": "0a7b06f4",
   "metadata": {},
   "source": [
    "### Check if a string contains only alphabets. "
   ]
  },
  {
   "cell_type": "code",
   "execution_count": 2,
   "id": "3515c433",
   "metadata": {},
   "outputs": [
    {
     "name": "stdout",
     "output_type": "stream",
     "text": [
      "String contains only alphabetic characters\n"
     ]
    }
   ],
   "source": [
    "my_string = \"abcXYZ\"\n",
    "if my_string.isalpha():\n",
    "    print(\"String contains only alphabetic characters\")\n",
    "else:\n",
    "    print(\"String contains non-alphabetic characters\")"
   ]
  },
  {
   "cell_type": "markdown",
   "id": "8c8780e0",
   "metadata": {},
   "source": [
    "### Convert a string to a list of characters. "
   ]
  },
  {
   "cell_type": "code",
   "execution_count": 3,
   "id": "a2088ef4",
   "metadata": {},
   "outputs": [
    {
     "name": "stdout",
     "output_type": "stream",
     "text": [
      "['H', 'e', 'l', 'l', 'o', ',', ' ', 'W', 'o', 'r', 'l', 'd', '!']\n"
     ]
    }
   ],
   "source": [
    "my_string = \"Hello, World!\"\n",
    "char_list = []\n",
    "\n",
    "for char in my_string:\n",
    "    char_list.append(char)\n",
    "\n",
    "print(char_list)"
   ]
  },
  {
   "cell_type": "markdown",
   "id": "ece7461f",
   "metadata": {},
   "source": [
    "###  Check if two strings are anagrams. "
   ]
  },
  {
   "cell_type": "code",
   "execution_count": 4,
   "id": "8d67d4d9",
   "metadata": {},
   "outputs": [
    {
     "name": "stdout",
     "output_type": "stream",
     "text": [
      "'listen' and 'silent' are anagrams.\n"
     ]
    }
   ],
   "source": [
    "def are_anagrams(str1, str2):\n",
    "    # Remove spaces and convert both strings to lowercase \n",
    "    str1 = str1.replace(\" \", \"\").lower()\n",
    "    str2 = str2.replace(\" \", \"\").lower()\n",
    "\n",
    "    # Check if the lengths of the two strings are equal\n",
    "    if len(str1) != len(str2):\n",
    "        return False\n",
    "\n",
    "    # Create dictionaries to store character frequencies\n",
    "    char_count1 = {}\n",
    "    char_count2 = {}\n",
    "\n",
    "    # Count character frequencies in the first string\n",
    "    for char in str1:\n",
    "        if char in char_count1:\n",
    "            char_count1[char] += 1\n",
    "        else:\n",
    "            char_count1[char] = 1\n",
    "\n",
    "    # Count character frequencies in the second string\n",
    "    for char in str2:\n",
    "        if char in char_count2:\n",
    "            char_count2[char] += 1\n",
    "        else:\n",
    "            char_count2[char] = 1\n",
    "\n",
    "    # Compare the two dictionaries\n",
    "    return char_count1 == char_count2\n",
    "str1 = \"listen\"\n",
    "str2 = \"silent\"\n",
    "if are_anagrams(str1, str2):\n",
    "    print(f\"'{str1}' and '{str2}' are anagrams.\")\n",
    "else:\n",
    "    print(f\"'{str1}' and '{str2}' are not anagrams.\")\n"
   ]
  },
  {
   "cell_type": "markdown",
   "id": "e6ec5e78",
   "metadata": {},
   "source": [
    "### Encode a string using a Caesar cipher. "
   ]
  },
  {
   "cell_type": "code",
   "execution_count": 5,
   "id": "5ae2447b",
   "metadata": {},
   "outputs": [
    {
     "name": "stdout",
     "output_type": "stream",
     "text": [
      "Encrypted: Khoor, Zruog!\n"
     ]
    }
   ],
   "source": [
    "def caesar_cipher_encrypt(text, shift):\n",
    "    encrypted_text = \"\"\n",
    "    \n",
    "    for char in text:\n",
    "        if char.isalpha():  # Check if the character is alphabetic\n",
    "            is_upper = char.isupper()  # Check if the character is uppercase\n",
    "            \n",
    "            # Shift the character while maintaining its case\n",
    "            char = chr(((ord(char) - ord('A' if is_upper else 'a') + shift) % 26) + ord('A' if is_upper else 'a'))\n",
    "        \n",
    "        encrypted_text += char\n",
    "    \n",
    "    return encrypted_text\n",
    "\n",
    "# Example usage:\n",
    "plaintext = \"Hello, World!\"\n",
    "shift_amount = 3\n",
    "encrypted_text = caesar_cipher_encrypt(plaintext, shift_amount)\n",
    "print(\"Encrypted:\", encrypted_text)"
   ]
  },
  {
   "cell_type": "markdown",
   "id": "cfe8c408",
   "metadata": {},
   "source": [
    "### Decode a Caesar cipher encoded string. "
   ]
  },
  {
   "cell_type": "code",
   "execution_count": 7,
   "id": "9c5bcd71",
   "metadata": {},
   "outputs": [
    {
     "name": "stdout",
     "output_type": "stream",
     "text": [
      "Decrypted: Hello, World!\n"
     ]
    }
   ],
   "source": [
    "def caesar_cipher_decrypt(encrypted_text, shift):\n",
    "    decrypted_text = \"\"\n",
    "    \n",
    "    for char in encrypted_text:\n",
    "        if char.isalpha():  # Check if the character is alphabetic\n",
    "            is_upper = char.isupper()  # Check if the character is uppercase\n",
    "            \n",
    "            # Reverse the shift to decrypt the character while maintaining its case\n",
    "            char = chr(((ord(char) - ord('A' if is_upper else 'a') - shift) % 26) + ord('A' if is_upper else 'a'))\n",
    "        \n",
    "        decrypted_text += char\n",
    "    \n",
    "    return decrypted_text\n",
    "\n",
    "# Example usage:\n",
    "encrypted_text = \"Khoor, Zruog!\"\n",
    "shift_amount = 3\n",
    "decrypted_text = caesar_cipher_decrypt(encrypted_text, shift_amount)\n",
    "print(\"Decrypted:\", decrypted_text)"
   ]
  },
  {
   "cell_type": "markdown",
   "id": "6c1dfaf2",
   "metadata": {},
   "source": [
    "### Find the most frequent word in a string. "
   ]
  },
  {
   "cell_type": "code",
   "execution_count": 8,
   "id": "c44b03d1",
   "metadata": {},
   "outputs": [
    {
     "name": "stdout",
     "output_type": "stream",
     "text": [
      "The most frequent word is 'this' with a frequency of 2.\n"
     ]
    }
   ],
   "source": [
    "from collections import Counter\n",
    "import re\n",
    "\n",
    "def most_frequent_word(text):\n",
    "    # Tokenize the text into words (split by whitespace and remove punctuation)\n",
    "    words = re.findall(r'\\w+', text.lower())\n",
    "    \n",
    "    # Count the frequency of each word using Counter\n",
    "    word_count = Counter(words)\n",
    "    \n",
    "    # Find the most common word and its frequency\n",
    "    most_common_word, frequency = word_count.most_common(1)[0]\n",
    "    \n",
    "    return most_common_word, frequency\n",
    "\n",
    "# Example usage:\n",
    "input_text = \"This is a sample text. This text contains some sample words.\"\n",
    "most_common, frequency = most_frequent_word(input_text)\n",
    "print(f\"The most frequent word is '{most_common}' with a frequency of {frequency}.\")"
   ]
  },
  {
   "cell_type": "markdown",
   "id": "1aa8ff7e",
   "metadata": {},
   "source": [
    "### Find all unique words in a string. "
   ]
  },
  {
   "cell_type": "code",
   "execution_count": 9,
   "id": "590c10ed",
   "metadata": {},
   "outputs": [
    {
     "name": "stdout",
     "output_type": "stream",
     "text": [
      "Unique words: {'sample', 'contains', 'text', 'words', 'a', 'is', 'this', 'some'}\n"
     ]
    }
   ],
   "source": [
    "import re\n",
    "\n",
    "def unique_words(text):\n",
    "    # Tokenize the text into words (split by whitespace and remove punctuation)\n",
    "    words = re.findall(r'\\w+', text.lower())\n",
    "    \n",
    "    # Use a set to store unique words\n",
    "    unique_word_set = set(words)\n",
    "    \n",
    "    return unique_word_set\n",
    "\n",
    "# Example usage:\n",
    "input_text = \"This is a sample text. This text contains some sample words.\"\n",
    "unique_words_set = unique_words(input_text)\n",
    "print(\"Unique words:\", unique_words_set)"
   ]
  },
  {
   "cell_type": "markdown",
   "id": "14bd3864",
   "metadata": {},
   "source": [
    "### Count the number of syllables in a string. "
   ]
  },
  {
   "cell_type": "code",
   "execution_count": 11,
   "id": "34166467",
   "metadata": {},
   "outputs": [
    {
     "name": "stderr",
     "output_type": "stream",
     "text": [
      "[nltk_data] Downloading package cmudict to\n",
      "[nltk_data]     C:\\Users\\sayal\\AppData\\Roaming\\nltk_data...\n",
      "[nltk_data]   Package cmudict is already up-to-date!\n"
     ]
    },
    {
     "name": "stdout",
     "output_type": "stream",
     "text": [
      "Total syllables: 12\n"
     ]
    }
   ],
   "source": [
    "import nltk\n",
    "\n",
    "# Download the necessary NLTK data (run this once)\n",
    "nltk.download('cmudict')\n",
    "\n",
    "from nltk.corpus import cmudict\n",
    "\n",
    "# Create a function to count syllables in a word\n",
    "def count_syllables(word):\n",
    "    d = cmudict.dict()\n",
    "    if word.lower() in d:\n",
    "        return max([len(list(y for y in x if y[-1].isdigit())) for x in d[word.lower()]])\n",
    "    else:\n",
    "        # If the word is not found in the CMU Pronouncing Dictionary, you can use a simple rule-based estimate\n",
    "        # This is a basic estimate and may not be accurate for all words\n",
    "        return max(1, len([char for char in word.lower() if char in 'aeiou']))\n",
    "\n",
    "# Create a function to count syllables in a string\n",
    "def count_syllables_in_string(text):\n",
    "    words = text.split()\n",
    "    total_syllables = sum(count_syllables(word) for word in words)\n",
    "    return total_syllables\n",
    "\n",
    "# Example usage:\n",
    "input_text = \"Hello, World! This is an example sentence.\"\n",
    "syllable_count = count_syllables_in_string(input_text)\n",
    "print(\"Total syllables:\", syllable_count)"
   ]
  },
  {
   "cell_type": "markdown",
   "id": "8a241ba3",
   "metadata": {},
   "source": [
    "### Check if a string contains any special characters. "
   ]
  },
  {
   "cell_type": "code",
   "execution_count": 12,
   "id": "a5571c64",
   "metadata": {},
   "outputs": [
    {
     "name": "stdout",
     "output_type": "stream",
     "text": [
      "String contains special characters\n"
     ]
    }
   ],
   "source": [
    "import re\n",
    "\n",
    "def contains_special_characters(input_string):\n",
    "    # Define a regular expression pattern to match special characters\n",
    "    pattern = r'[!@#$%^&*()_+{}\\[\\]:;<>,.?~\\\\|\\/]'\n",
    "    \n",
    "    # Use re.search() to find a match in the input string\n",
    "    match = re.search(pattern, input_string)\n",
    "    \n",
    "    # If a match is found, return True (string contains special characters)\n",
    "    return match is not None\n",
    "\n",
    "# Example usage:\n",
    "input_string = \"Hello, World!\"\n",
    "if contains_special_characters(input_string):\n",
    "    print(\"String contains special characters\")\n",
    "else:\n",
    "    print(\"String does not contain special characters\")"
   ]
  },
  {
   "cell_type": "markdown",
   "id": "42611745",
   "metadata": {},
   "source": [
    "### Remove the nth word from a string. "
   ]
  },
  {
   "cell_type": "code",
   "execution_count": 13,
   "id": "b9f50219",
   "metadata": {},
   "outputs": [
    {
     "name": "stdout",
     "output_type": "stream",
     "text": [
      "Result: This is a sentence to test removing words.\n"
     ]
    }
   ],
   "source": [
    "def remove_nth_word(input_string, n):\n",
    "    # Tokenize the input string into words\n",
    "    words = input_string.split()\n",
    "\n",
    "    # Check if n is within a valid range\n",
    "    if n >= 1 and n <= len(words):\n",
    "        # Remove the nth word\n",
    "        del words[n - 1]\n",
    "\n",
    "        # Reconstruct the string without the removed word\n",
    "        result_string = ' '.join(words)\n",
    "        return result_string\n",
    "    else:\n",
    "        # If n is out of range, return the original string\n",
    "        return input_string\n",
    "\n",
    "# Example usage:\n",
    "input_string = \"This is a sample sentence to test removing words.\"\n",
    "n = 4  # Replace with the desired word position to remove\n",
    "result = remove_nth_word(input_string, n)\n",
    "print(\"Result:\", result)"
   ]
  },
  {
   "cell_type": "markdown",
   "id": "97c840d9",
   "metadata": {},
   "source": [
    "### Insert a word at the nth position in a string. "
   ]
  },
  {
   "cell_type": "code",
   "execution_count": 14,
   "id": "c7f2778d",
   "metadata": {},
   "outputs": [
    {
     "name": "stdout",
     "output_type": "stream",
     "text": [
      "Result: This is a new_word sample sentence to test inserting words.\n"
     ]
    }
   ],
   "source": [
    "def insert_word_at_nth_position(input_string, n, new_word):\n",
    "    # Tokenize the input string into words\n",
    "    words = input_string.split()\n",
    "\n",
    "    # Check if n is within a valid range\n",
    "    if n >= 0 and n <= len(words):\n",
    "        # Insert the new word at the nth position\n",
    "        words.insert(n, new_word)\n",
    "\n",
    "        # Reconstruct the string with the inserted word\n",
    "        result_string = ' '.join(words)\n",
    "        return result_string\n",
    "    else:\n",
    "        # If n is out of range, return the original string\n",
    "        return input_string\n",
    "\n",
    "# Example usage:\n",
    "input_string = \"This is a sample sentence to test inserting words.\"\n",
    "n = 3  # Replace with the desired word position to insert\n",
    "new_word = \"new_word\"  # Replace with the word you want to insert\n",
    "result = insert_word_at_nth_position(input_string, n, new_word)\n",
    "print(\"Result:\", result)"
   ]
  },
  {
   "cell_type": "markdown",
   "id": "ca8220bf",
   "metadata": {},
   "source": [
    "### Convert a CSV string to a list of lists. "
   ]
  },
  {
   "cell_type": "code",
   "execution_count": 15,
   "id": "df958fd3",
   "metadata": {},
   "outputs": [
    {
     "name": "stdout",
     "output_type": "stream",
     "text": [
      "['Name', 'Age', 'Location']\n",
      "['Alice', '25', 'New York']\n",
      "['Bob', '30', 'Los Angeles']\n",
      "['Charlie', '22', 'Chicago']\n"
     ]
    }
   ],
   "source": [
    "import csv\n",
    "from io import StringIO\n",
    "\n",
    "csv_string = \"\"\"Name,Age,Location\n",
    "Alice,25,New York\n",
    "Bob,30,Los Angeles\n",
    "Charlie,22,Chicago\n",
    "\"\"\"\n",
    "\n",
    "# Create a StringIO object to simulate a file-like object\n",
    "csv_file = StringIO(csv_string)\n",
    "\n",
    "# Initialize a CSV reader\n",
    "csv_reader = csv.reader(csv_file)\n",
    "\n",
    "# Convert CSV data to a list of lists\n",
    "csv_data = [row for row in csv_reader]\n",
    "\n",
    "# Close the StringIO object\n",
    "csv_file.close()\n",
    "\n",
    "# Print the resulting list of lists\n",
    "for row in csv_data:\n",
    "    print(row)"
   ]
  },
  {
   "cell_type": "markdown",
   "id": "bac8237e",
   "metadata": {},
   "source": [
    "# List "
   ]
  },
  {
   "cell_type": "markdown",
   "id": "040a4553",
   "metadata": {},
   "source": [
    "### Create a list with integers from 1 to 10. "
   ]
  },
  {
   "cell_type": "code",
   "execution_count": 18,
   "id": "1959a648",
   "metadata": {},
   "outputs": [
    {
     "data": {
      "text/plain": [
       "[1, 2, 3, 4, 5, 6, 7, 8, 9, 10]"
      ]
     },
     "execution_count": 18,
     "metadata": {},
     "output_type": "execute_result"
    }
   ],
   "source": [
    "l1=list(range(1,11))\n",
    "l1"
   ]
  },
  {
   "cell_type": "markdown",
   "id": "650d3f9b",
   "metadata": {},
   "source": [
    "### Find the length of a list without using the `len()` function. "
   ]
  },
  {
   "cell_type": "code",
   "execution_count": 20,
   "id": "70d16c11",
   "metadata": {},
   "outputs": [
    {
     "name": "stdout",
     "output_type": "stream",
     "text": [
      "25\n"
     ]
    }
   ],
   "source": [
    "l1=[1,2,3,4,5,6,7,8,9,10,2,4,6,8,9,4,6,3,6,3,5,8,9,4,2]\n",
    "count=0\n",
    "for i in l1:\n",
    "    count=count+1\n",
    "print(count)"
   ]
  },
  {
   "cell_type": "markdown",
   "id": "ce928236",
   "metadata": {},
   "source": [
    "### Append an element to the end of a list. "
   ]
  },
  {
   "cell_type": "code",
   "execution_count": 21,
   "id": "7bd0e30a",
   "metadata": {},
   "outputs": [
    {
     "name": "stdout",
     "output_type": "stream",
     "text": [
      "[1, 2, 3, 4, 5]\n"
     ]
    }
   ],
   "source": [
    "l1=[1,2,3,4]\n",
    "l1.append(5)\n",
    "print(l1)"
   ]
  },
  {
   "cell_type": "markdown",
   "id": "d25d7a5c",
   "metadata": {},
   "source": [
    "### Insert an element at a specific index in a list. "
   ]
  },
  {
   "cell_type": "code",
   "execution_count": 22,
   "id": "139b6b6f",
   "metadata": {},
   "outputs": [
    {
     "name": "stdout",
     "output_type": "stream",
     "text": [
      "[1, 5, 2, 3, 4]\n"
     ]
    }
   ],
   "source": [
    "l1=[1,2,3,4]\n",
    "l1.insert(1,5)\n",
    "print(l1)"
   ]
  },
  {
   "cell_type": "markdown",
   "id": "1ea3799a",
   "metadata": {},
   "source": [
    "### Remove an element from a list by its value. "
   ]
  },
  {
   "cell_type": "code",
   "execution_count": 27,
   "id": "ef5ceff7",
   "metadata": {},
   "outputs": [
    {
     "data": {
      "text/plain": [
       "[1, 2, 3, 4, 5, 6, 7, 8]"
      ]
     },
     "execution_count": 27,
     "metadata": {},
     "output_type": "execute_result"
    }
   ],
   "source": [
    "l1=[1,2,3,4,5,6,7,8,9]\n",
    "l1.remove(9)\n",
    "l1"
   ]
  },
  {
   "cell_type": "markdown",
   "id": "93c5d858",
   "metadata": {},
   "source": [
    "### Remove an element from a list by its index. "
   ]
  },
  {
   "cell_type": "code",
   "execution_count": 32,
   "id": "0266472f",
   "metadata": {},
   "outputs": [
    {
     "data": {
      "text/plain": [
       "[1, 2, 3, 4, 6, 7, 8, 9]"
      ]
     },
     "execution_count": 32,
     "metadata": {},
     "output_type": "execute_result"
    }
   ],
   "source": [
    "l1=[1,2,3,4,5,6,7,8,9]\n",
    "l1.pop(4)\n",
    "l1"
   ]
  },
  {
   "cell_type": "markdown",
   "id": "3c2cfe01",
   "metadata": {},
   "source": [
    "### Check if an element exists in a list. "
   ]
  },
  {
   "cell_type": "code",
   "execution_count": 36,
   "id": "630e5e32",
   "metadata": {},
   "outputs": [
    {
     "name": "stdout",
     "output_type": "stream",
     "text": [
      "2\n",
      "exists\n"
     ]
    }
   ],
   "source": [
    "l1=[1,2,3,4]\n",
    "n=int(input())\n",
    "if n in l1:\n",
    "    print(\"exists\")\n",
    "else:\n",
    "    print(\"not exists\")"
   ]
  },
  {
   "cell_type": "markdown",
   "id": "9e0b72a1",
   "metadata": {},
   "source": [
    "### Find the index of the first occurrence of an element in a list. "
   ]
  },
  {
   "cell_type": "code",
   "execution_count": 37,
   "id": "c6bd6846",
   "metadata": {},
   "outputs": [
    {
     "data": {
      "text/plain": [
       "1"
      ]
     },
     "execution_count": 37,
     "metadata": {},
     "output_type": "execute_result"
    }
   ],
   "source": [
    "l1=[1,2,3,4,5,6,7,8,9,2,3,4,5,6,7,8,9]\n",
    "l1.index(2)"
   ]
  },
  {
   "cell_type": "markdown",
   "id": "b96ea87b",
   "metadata": {},
   "source": [
    "### Count the occurrences of an element in a list. "
   ]
  },
  {
   "cell_type": "code",
   "execution_count": 40,
   "id": "36b92469",
   "metadata": {},
   "outputs": [
    {
     "name": "stdout",
     "output_type": "stream",
     "text": [
      "{1: 1, 2: 2, 3: 2, 4: 2, 5: 2, 6: 2, 7: 2, 8: 2, 9: 2}\n"
     ]
    }
   ],
   "source": [
    "l1=[1,2,3,4,5,6,7,8,9,2,3,4,5,6,7,8,9]\n",
    "def countOccurrence(l1):\n",
    "  k = {}\n",
    "  for j in l1:\n",
    "    if j in k:\n",
    "      k[j] +=1\n",
    "    else:\n",
    "      k[j] =1\n",
    "  return k\n",
    "\n",
    "print(countOccurrence(l1))"
   ]
  },
  {
   "cell_type": "markdown",
   "id": "732d445a",
   "metadata": {},
   "source": [
    "### Reverse the order of elements in a list. "
   ]
  },
  {
   "cell_type": "code",
   "execution_count": 41,
   "id": "d83a1cfc",
   "metadata": {},
   "outputs": [
    {
     "data": {
      "text/plain": [
       "[9, 8, 7, 6, 5, 4, 3, 2, 1]"
      ]
     },
     "execution_count": 41,
     "metadata": {},
     "output_type": "execute_result"
    }
   ],
   "source": [
    "l1=[1,2,3,4,5,6,7,8,9]\n",
    "l1.reverse()\n",
    "l1"
   ]
  },
  {
   "cell_type": "markdown",
   "id": "746a7723",
   "metadata": {},
   "source": [
    "### Sort a list in ascending order. "
   ]
  },
  {
   "cell_type": "code",
   "execution_count": 5,
   "id": "18908200",
   "metadata": {},
   "outputs": [
    {
     "data": {
      "text/plain": [
       "[1, 2, 3, 4, 5, 7, 9, 32, 34, 45, 46, 46, 89, 90, 98]"
      ]
     },
     "execution_count": 5,
     "metadata": {},
     "output_type": "execute_result"
    }
   ],
   "source": [
    "l1=[2,4,5,7,9,45,32,1,3,46,89,46,90,34,98]\n",
    "l1.sort()\n",
    "l1"
   ]
  },
  {
   "cell_type": "markdown",
   "id": "0de17c48",
   "metadata": {},
   "source": [
    "### Sort a list in descending order. "
   ]
  },
  {
   "cell_type": "code",
   "execution_count": 6,
   "id": "0aef19c3",
   "metadata": {},
   "outputs": [
    {
     "data": {
      "text/plain": [
       "[98, 90, 89, 46, 46, 45, 34, 32, 9, 7, 5, 4, 3, 2, 1]"
      ]
     },
     "execution_count": 6,
     "metadata": {},
     "output_type": "execute_result"
    }
   ],
   "source": [
    "l1=[2,4,5,7,9,45,32,1,3,46,89,46,90,34,98]\n",
    "l1.sort(reverse=True)\n",
    "l1"
   ]
  },
  {
   "cell_type": "markdown",
   "id": "ad51a148",
   "metadata": {},
   "source": [
    "### Create a list of even numbers from 1 to 20. "
   ]
  },
  {
   "cell_type": "code",
   "execution_count": 9,
   "id": "e7e15433",
   "metadata": {},
   "outputs": [
    {
     "name": "stdout",
     "output_type": "stream",
     "text": [
      "[2, 4, 6, 8, 10, 12, 14, 16, 18, 20]\n"
     ]
    }
   ],
   "source": [
    "l1=[]\n",
    "for i in range(1,21):\n",
    "    if i%2==0:\n",
    "        l1.append(i)\n",
    "print(l1)"
   ]
  },
  {
   "cell_type": "markdown",
   "id": "b92305c1",
   "metadata": {},
   "source": [
    "### Create a list of odd numbers from 1 to 20. "
   ]
  },
  {
   "cell_type": "code",
   "execution_count": 10,
   "id": "4a49eb97",
   "metadata": {},
   "outputs": [
    {
     "name": "stdout",
     "output_type": "stream",
     "text": [
      "[1, 3, 5, 7, 9, 11, 13, 15, 17, 19]\n"
     ]
    }
   ],
   "source": [
    "l1=[]\n",
    "for i in range(1,21):\n",
    "    if i%2!=0:\n",
    "        l1.append(i)\n",
    "print(l1)"
   ]
  },
  {
   "cell_type": "markdown",
   "id": "2497d9d8",
   "metadata": {},
   "source": [
    "### Find the sum of all elements in a list. "
   ]
  },
  {
   "cell_type": "code",
   "execution_count": 12,
   "id": "f5cc6017",
   "metadata": {},
   "outputs": [
    {
     "name": "stdout",
     "output_type": "stream",
     "text": [
      "366\n"
     ]
    }
   ],
   "source": [
    "l1=[2,4,6,8,4,7,4,3,7,9,4,3,6,84,43,34,7,8,9,8,8,98]\n",
    "sum=0\n",
    "for i in l1:\n",
    "    sum=sum+i\n",
    "print(sum)"
   ]
  },
  {
   "cell_type": "markdown",
   "id": "aea345fc",
   "metadata": {},
   "source": [
    "### Find the maximum value in a list. "
   ]
  },
  {
   "cell_type": "code",
   "execution_count": 13,
   "id": "e343ec8e",
   "metadata": {},
   "outputs": [
    {
     "name": "stdout",
     "output_type": "stream",
     "text": [
      "98\n"
     ]
    }
   ],
   "source": [
    "l1=[2,4,6,8,4,7,4,3,7,9,4,3,6,84,43,34,7,8,9,8,8,98]\n",
    "print(max(l1))"
   ]
  },
  {
   "cell_type": "markdown",
   "id": "73a784bb",
   "metadata": {},
   "source": [
    "### Find the minimum value in a list. "
   ]
  },
  {
   "cell_type": "code",
   "execution_count": 14,
   "id": "783e7067",
   "metadata": {},
   "outputs": [
    {
     "name": "stdout",
     "output_type": "stream",
     "text": [
      "2\n"
     ]
    }
   ],
   "source": [
    "l1=[2,4,6,8,4,7,4,3,7,9,4,3,6,84,43,34,7,8,9,8,8,98]\n",
    "print(min(l1))"
   ]
  },
  {
   "cell_type": "markdown",
   "id": "4f93b230",
   "metadata": {},
   "source": [
    "### Create a list of squares of numbers from 1 to 10. "
   ]
  },
  {
   "cell_type": "code",
   "execution_count": 15,
   "id": "afcda95d",
   "metadata": {},
   "outputs": [
    {
     "name": "stdout",
     "output_type": "stream",
     "text": [
      "[1, 4, 9, 16, 25, 36, 49, 64, 81, 100]\n"
     ]
    }
   ],
   "source": [
    "l1=[]\n",
    "for i in range(1,11):\n",
    "    l1.append(i**2)\n",
    "print(l1)"
   ]
  },
  {
   "cell_type": "markdown",
   "id": "4f4a179e",
   "metadata": {},
   "source": [
    "### Create a list of random numbers. "
   ]
  },
  {
   "cell_type": "code",
   "execution_count": 22,
   "id": "6b8fb111",
   "metadata": {},
   "outputs": [
    {
     "name": "stdout",
     "output_type": "stream",
     "text": [
      "[5, 70, 20, 89]\n"
     ]
    }
   ],
   "source": [
    "import random\n",
    "l1=[]\n",
    "for i in range(1,5):\n",
    "    n=random.randint(1,100)\n",
    "    l1.append(n)\n",
    "print(l1)"
   ]
  },
  {
   "cell_type": "markdown",
   "id": "de518ae0",
   "metadata": {},
   "source": [
    "### Remove duplicates from a list. "
   ]
  },
  {
   "cell_type": "code",
   "execution_count": 23,
   "id": "51cd0e13",
   "metadata": {},
   "outputs": [
    {
     "name": "stdout",
     "output_type": "stream",
     "text": [
      "[2, 4, 6, 8, 7, 3, 9, 84, 43, 34, 98]\n"
     ]
    }
   ],
   "source": [
    "l1=[2,4,6,8,4,7,4,3,7,9,4,3,6,84,43,34,7,8,9,8,8,98]\n",
    "l2=[]\n",
    "for i in l1:\n",
    "    if i not in l2:\n",
    "        l2.append(i)\n",
    "print(l2)"
   ]
  },
  {
   "cell_type": "markdown",
   "id": "9f2e72c9",
   "metadata": {},
   "source": [
    "### Find the common elements between two lists. "
   ]
  },
  {
   "cell_type": "code",
   "execution_count": 28,
   "id": "b823f80f",
   "metadata": {},
   "outputs": [
    {
     "name": "stdout",
     "output_type": "stream",
     "text": [
      "[2, 4, 6, 8, 7, 3]\n"
     ]
    }
   ],
   "source": [
    "l1=[2,4,6,8,4,7,4,3,7,9,4,3,6,84,43,34,7,8,9,8,8,98]\n",
    "l2=[2,3,5,7,5,7,8,4,3,6,8,3,6,8,3,6,8,3,7,2,5,7,8,92]\n",
    "l3=[]\n",
    "for i in l1:\n",
    "    for j in l2:\n",
    "        if i==j:\n",
    "            if i not in l3:\n",
    "                l3.append(i)\n",
    "print(l3)"
   ]
  },
  {
   "cell_type": "markdown",
   "id": "459d85c6",
   "metadata": {},
   "source": [
    "### Find the difference between two lists."
   ]
  },
  {
   "cell_type": "code",
   "execution_count": 35,
   "id": "eca0f138",
   "metadata": {},
   "outputs": [
    {
     "data": {
      "text/plain": [
       "[34, 98, 9, 43, 84]"
      ]
     },
     "execution_count": 35,
     "metadata": {},
     "output_type": "execute_result"
    }
   ],
   "source": [
    "l1=[2,4,6,8,4,7,4,3,7,9,4,3,6,84,43,34,7,8,9,8,8,98]\n",
    "l2=[2,3,5,7,5,7,8,4,3,6,8,3,6,8,3,6,8,3,7,2,5,7,8,92]\n",
    "l3=list(set(l1)-set(l2))\n",
    "l3"
   ]
  },
  {
   "cell_type": "markdown",
   "id": "fd53506a",
   "metadata": {},
   "source": [
    "### Merge two lists."
   ]
  },
  {
   "cell_type": "code",
   "execution_count": 38,
   "id": "749a6df3",
   "metadata": {},
   "outputs": [
    {
     "data": {
      "text/plain": [
       "[4, 2, 3, 9, 'abc', 'pwskills', 24.34, 98]"
      ]
     },
     "execution_count": 38,
     "metadata": {},
     "output_type": "execute_result"
    }
   ],
   "source": [
    "l1=[4,2,3,9]\n",
    "l2=[\"abc\",\"pwskills\",24.34,98]\n",
    "l1.extend(l2)\n",
    "l1"
   ]
  },
  {
   "cell_type": "markdown",
   "id": "a4160a1d",
   "metadata": {},
   "source": [
    "### Multiply all elements in a list by 2. "
   ]
  },
  {
   "cell_type": "code",
   "execution_count": 40,
   "id": "e375b919",
   "metadata": {},
   "outputs": [
    {
     "data": {
      "text/plain": [
       "[2, 4, 6, 8, 10, 12, 14, 16, 18]"
      ]
     },
     "execution_count": 40,
     "metadata": {},
     "output_type": "execute_result"
    }
   ],
   "source": [
    "l1=[1,2,3,4,5,6,7,8,9]\n",
    "l2=[]\n",
    "for i in l1:\n",
    "    l2.append(i*2)\n",
    "l2"
   ]
  },
  {
   "cell_type": "markdown",
   "id": "50f7061d",
   "metadata": {},
   "source": [
    "### Filter out all even numbers from a list. "
   ]
  },
  {
   "cell_type": "code",
   "execution_count": 1,
   "id": "eea77967",
   "metadata": {},
   "outputs": [
    {
     "name": "stdout",
     "output_type": "stream",
     "text": [
      "[2, 6, 8]\n"
     ]
    }
   ],
   "source": [
    "l1=[2,3,5,6,7,8,9]\n",
    "l2=[]\n",
    "for i in l1:\n",
    "    if i%2==0:\n",
    "        l2.append(i)\n",
    "print(l2)"
   ]
  },
  {
   "cell_type": "markdown",
   "id": "9f727dfd",
   "metadata": {},
   "source": [
    "### Convert a list of strings to a list of integers. "
   ]
  },
  {
   "cell_type": "code",
   "execution_count": 2,
   "id": "78e0674d",
   "metadata": {},
   "outputs": [
    {
     "name": "stdout",
     "output_type": "stream",
     "text": [
      "[2, 3, 4, 7, 8, 9]\n"
     ]
    }
   ],
   "source": [
    "l1=['2','3','4','7',8,9]\n",
    "l2=[]\n",
    "for i in l1:\n",
    "    l2.append(int(i))\n",
    "print(l2)"
   ]
  },
  {
   "cell_type": "markdown",
   "id": "6f561f34",
   "metadata": {},
   "source": [
    "### Convert a list of integers to a list of strings. "
   ]
  },
  {
   "cell_type": "code",
   "execution_count": 3,
   "id": "f512f7df",
   "metadata": {},
   "outputs": [
    {
     "name": "stdout",
     "output_type": "stream",
     "text": [
      "['3', '4', '5', '3', '5', '7', '8', '9', '3', '4', '5', '6', '7', '8', '9']\n"
     ]
    }
   ],
   "source": [
    "l1=[3,4,5,3,5,7,8,9,3,4,5,6,7,8,9]\n",
    "l2=[]\n",
    "for i in l1:\n",
    "    l2.append(str(i))\n",
    "print(l2)"
   ]
  },
  {
   "cell_type": "markdown",
   "id": "6ae37b8e",
   "metadata": {},
   "source": [
    "### Flatten a nested list. "
   ]
  },
  {
   "cell_type": "code",
   "execution_count": 5,
   "id": "7dfecc19",
   "metadata": {},
   "outputs": [
    {
     "name": "stdout",
     "output_type": "stream",
     "text": [
      "[1, 2, 3, 4, 5, 6, 7, 8, 9]\n"
     ]
    }
   ],
   "source": [
    "l1=[[1,2,3],[4,5,6],[7,8,9]]\n",
    "l2=[]\n",
    "for i in l1:\n",
    "    for j in i:\n",
    "        l2.append(j)\n",
    "print(l2)"
   ]
  },
  {
   "cell_type": "markdown",
   "id": "103e668c",
   "metadata": {},
   "source": [
    "### Create a list of the first 10 Fibonacci numbers. "
   ]
  },
  {
   "cell_type": "code",
   "execution_count": 1,
   "id": "1e5eeeeb",
   "metadata": {},
   "outputs": [
    {
     "name": "stdout",
     "output_type": "stream",
     "text": [
      "Fibonacci sequence: 0 1 1 2 3 5 8 13 21 34 "
     ]
    }
   ],
   "source": [
    "n=10\n",
    "n1, n2 = 0, 1\n",
    "count = 0\n",
    "if n <= 0:\n",
    "   print(\"Please enter a positive integer\")\n",
    "elif n == 1:\n",
    "   print(\"Fibonacci sequence upto\",n,\":\")\n",
    "   print(n1)\n",
    "else:\n",
    "   print(\"Fibonacci sequence:\",end=\" \")\n",
    "   while count < n:\n",
    "       print(n1,end=\" \")\n",
    "       nth = n1 + n2\n",
    "       # update values\n",
    "       n1 = n2\n",
    "       n2 = nth\n",
    "       count += 1"
   ]
  },
  {
   "cell_type": "markdown",
   "id": "2c8d1cd9",
   "metadata": {},
   "source": [
    "### Check if a list is sorted. "
   ]
  },
  {
   "cell_type": "code",
   "execution_count": 18,
   "id": "e451e76f",
   "metadata": {},
   "outputs": [
    {
     "name": "stdout",
     "output_type": "stream",
     "text": [
      "True\n"
     ]
    }
   ],
   "source": [
    "l1=[2,3,4,5,6,7,8,9]\n",
    "if l1==sorted(l1):\n",
    "    print(True)\n",
    "else:\n",
    "    print(False)"
   ]
  },
  {
   "cell_type": "markdown",
   "id": "f295846f",
   "metadata": {},
   "source": [
    "### Rotate a list to the left by `n` positions. "
   ]
  },
  {
   "cell_type": "code",
   "execution_count": 3,
   "id": "1d6fc731",
   "metadata": {},
   "outputs": [
    {
     "name": "stdout",
     "output_type": "stream",
     "text": [
      "[4, 5, 6, 7, 8, 9, 1, 2, 3]\n"
     ]
    }
   ],
   "source": [
    "l1=[1,2,3,4,5,6,7,8,9]\n",
    "n=3\n",
    "rotated_list=l1[n:]+l1[:n]\n",
    "print(rotated_list)"
   ]
  },
  {
   "cell_type": "markdown",
   "id": "83559f42",
   "metadata": {},
   "source": [
    "### Rotate a list to the right by `n` positions. "
   ]
  },
  {
   "cell_type": "code",
   "execution_count": 5,
   "id": "7e0a4f58",
   "metadata": {},
   "outputs": [
    {
     "name": "stdout",
     "output_type": "stream",
     "text": [
      "[1, 2, 3, 4, 5, 6, 7, 8, 9]\n"
     ]
    }
   ],
   "source": [
    "l1=[1,2,3,4,5,6,7,8,9]\n",
    "n=3\n",
    "rotated_list_left=l1[n:]+l1[:n]\n",
    "rotated_list_right=rotated_list_left[-3:]+rotated_list_left[:-3]\n",
    "print(rotated_list_right)"
   ]
  },
  {
   "cell_type": "markdown",
   "id": "be23e592",
   "metadata": {},
   "source": [
    "### Create a list of prime numbers up to 50."
   ]
  },
  {
   "cell_type": "code",
   "execution_count": 9,
   "id": "547073f2",
   "metadata": {},
   "outputs": [
    {
     "name": "stdout",
     "output_type": "stream",
     "text": [
      "[2, 3, 5, 7, 11, 13, 17, 19, 23, 29, 31, 37, 41, 43, 47]\n"
     ]
    }
   ],
   "source": [
    "l1=[]\n",
    "for i in range(1,51):\n",
    "    if i>1:\n",
    "        for j in range(2,i):\n",
    "            if i%j==0:\n",
    "                break\n",
    "        else:\n",
    "            l1.append(i)\n",
    "print(l1)"
   ]
  },
  {
   "cell_type": "markdown",
   "id": "33993e94",
   "metadata": {},
   "source": [
    "### Split a list into chunks of size `n`. "
   ]
  },
  {
   "cell_type": "code",
   "execution_count": 15,
   "id": "2c2c2d46",
   "metadata": {},
   "outputs": [
    {
     "name": "stdout",
     "output_type": "stream",
     "text": [
      "[[1, 2], [3, 4], [5, 6], [7, 8], [9]]\n"
     ]
    }
   ],
   "source": [
    "def split(list_a, chunk_size):\n",
    "\n",
    "  for i in range(0, len(list_a), chunk_size):\n",
    "    yield list_a[i:i + chunk_size]\n",
    "\n",
    "chunk_size = 2\n",
    "my_list = [1,2,3,4,5,6,7,8,9]\n",
    "print(list(split(my_list, chunk_size)))"
   ]
  },
  {
   "cell_type": "markdown",
   "id": "ad6cc525",
   "metadata": {},
   "source": [
    "### Find the second largest number in a list. "
   ]
  },
  {
   "cell_type": "code",
   "execution_count": 3,
   "id": "bf8bc3d4",
   "metadata": {},
   "outputs": [
    {
     "name": "stdout",
     "output_type": "stream",
     "text": [
      "4\n"
     ]
    }
   ],
   "source": [
    "l1=[1,2,3,4,5]\n",
    "l1.sort()\n",
    "print(l1[-2])"
   ]
  },
  {
   "cell_type": "markdown",
   "id": "25e652e8",
   "metadata": {},
   "source": [
    "### Replace every element in a list with its square. "
   ]
  },
  {
   "cell_type": "code",
   "execution_count": 7,
   "id": "8254a5ef",
   "metadata": {},
   "outputs": [
    {
     "name": "stdout",
     "output_type": "stream",
     "text": [
      "[1, 4, 9, 16, 25]\n"
     ]
    }
   ],
   "source": [
    "l1=[1,2,3,4,5]\n",
    "l1 = list(map(lambda x: x**2, l1))\n",
    "print(l1)"
   ]
  },
  {
   "cell_type": "markdown",
   "id": "32a7662f",
   "metadata": {},
   "source": [
    "### Convert a list to a dictionary where list elements become keys and their indices become values. "
   ]
  },
  {
   "cell_type": "code",
   "execution_count": 10,
   "id": "fa3bee31",
   "metadata": {},
   "outputs": [
    {
     "data": {
      "text/plain": [
       "{1: 0, 2: 1, 3: 2, 4: 3, 5: 4}"
      ]
     },
     "execution_count": 10,
     "metadata": {},
     "output_type": "execute_result"
    }
   ],
   "source": [
    "lst=[1,2,3,4,5]\n",
    "dict(zip(lst, range(len(lst))))"
   ]
  },
  {
   "cell_type": "markdown",
   "id": "a347f546",
   "metadata": {},
   "source": [
    "### Shuffle the elements of a list randomly. "
   ]
  },
  {
   "cell_type": "code",
   "execution_count": 81,
   "id": "91cf5623",
   "metadata": {},
   "outputs": [
    {
     "name": "stdout",
     "output_type": "stream",
     "text": [
      "[1, 3, 2, 5, 4]\n"
     ]
    }
   ],
   "source": [
    "import random\n",
    "my_list = [1, 2, 3, 4, 5]  \n",
    "random.shuffle(my_list)\n",
    "print(my_list)"
   ]
  },
  {
   "cell_type": "markdown",
   "id": "60cc55c7",
   "metadata": {},
   "source": [
    "### Create a list of the first 10 factorial numbers. "
   ]
  },
  {
   "cell_type": "code",
   "execution_count": 82,
   "id": "5597c8c6",
   "metadata": {},
   "outputs": [
    {
     "name": "stdout",
     "output_type": "stream",
     "text": [
      "[1, 1, 2, 6, 24, 120, 720, 5040, 40320, 362880]\n"
     ]
    }
   ],
   "source": [
    "def factorial(n):\n",
    "    if n == 0:\n",
    "        return 1\n",
    "    else:\n",
    "        return n * factorial(n - 1)\n",
    "\n",
    "first_10_factorials = [factorial(i) for i in range(10)]\n",
    "print(first_10_factorials)"
   ]
  },
  {
   "cell_type": "markdown",
   "id": "6244102b",
   "metadata": {},
   "source": [
    "### Check if two lists have at least one element in common.  "
   ]
  },
  {
   "cell_type": "code",
   "execution_count": 83,
   "id": "d570e81a",
   "metadata": {},
   "outputs": [
    {
     "name": "stdout",
     "output_type": "stream",
     "text": [
      "The lists have at least one element in common.\n"
     ]
    }
   ],
   "source": [
    "def have_common_element(list1, list2):\n",
    "    set1 = set(list1)\n",
    "    set2 = set(list2)\n",
    "    return len(set1.intersection(set2)) > 0\n",
    "\n",
    "list1 = [1, 2, 3, 4, 5]\n",
    "list2 = [5, 6, 7, 8, 9]\n",
    "\n",
    "if have_common_element(list1, list2):\n",
    "    print(\"The lists have at least one element in common.\")\n",
    "else:\n",
    "    print(\"The lists do not have any element in common.\")"
   ]
  },
  {
   "cell_type": "markdown",
   "id": "9b8aa42c",
   "metadata": {},
   "source": [
    "### Remove all elements from a list."
   ]
  },
  {
   "cell_type": "code",
   "execution_count": 85,
   "id": "448841a5",
   "metadata": {},
   "outputs": [
    {
     "name": "stdout",
     "output_type": "stream",
     "text": [
      "[]\n"
     ]
    }
   ],
   "source": [
    "my_list = [1, 2, 3, 4, 5]\n",
    "my_list.clear()\n",
    "print(my_list)"
   ]
  },
  {
   "cell_type": "markdown",
   "id": "f7538e04",
   "metadata": {},
   "source": [
    "###  Replace negative numbers in a list with 0. "
   ]
  },
  {
   "cell_type": "code",
   "execution_count": 87,
   "id": "a65688c6",
   "metadata": {},
   "outputs": [
    {
     "name": "stdout",
     "output_type": "stream",
     "text": [
      "[1, 0, 3, 0, 5, 0]\n"
     ]
    }
   ],
   "source": [
    "my_list = [1, -2, 3, -4, 5, -6]\n",
    "\n",
    "for i in range(len(my_list)):\n",
    "    if my_list[i] < 0:\n",
    "        my_list[i] = 0\n",
    "print(my_list)"
   ]
  },
  {
   "cell_type": "markdown",
   "id": "421687ee",
   "metadata": {},
   "source": [
    "### Convert a string into a list of words. "
   ]
  },
  {
   "cell_type": "code",
   "execution_count": 88,
   "id": "d7e705f5",
   "metadata": {},
   "outputs": [
    {
     "name": "stdout",
     "output_type": "stream",
     "text": [
      "['This', 'is', 'a', 'sample', 'string.']\n"
     ]
    }
   ],
   "source": [
    "text = \"This is a sample string.\"\n",
    "word_list = text.split()\n",
    "print(word_list)"
   ]
  },
  {
   "cell_type": "markdown",
   "id": "2432cae7",
   "metadata": {},
   "source": [
    "### Convert a list of words into a string. "
   ]
  },
  {
   "cell_type": "code",
   "execution_count": 89,
   "id": "225b6e0f",
   "metadata": {},
   "outputs": [
    {
     "name": "stdout",
     "output_type": "stream",
     "text": [
      "Apple,Orange,Banana,Grape\n"
     ]
    }
   ],
   "source": [
    "word_list = [\"Apple\", \"Orange\", \"Banana\", \"Grape\"]\n",
    "text = \",\".join(word_list)\n",
    "print(text)"
   ]
  },
  {
   "cell_type": "markdown",
   "id": "d949a22c",
   "metadata": {},
   "source": [
    "### Create a list of the first `n` powers of 2. "
   ]
  },
  {
   "cell_type": "code",
   "execution_count": 90,
   "id": "becf2ec5",
   "metadata": {},
   "outputs": [
    {
     "name": "stdout",
     "output_type": "stream",
     "text": [
      "[1, 2, 4, 8, 16]\n"
     ]
    }
   ],
   "source": [
    "n = 5  \n",
    "powers_of_2 = [2 ** i for i in range(n)]\n",
    "print(powers_of_2)"
   ]
  },
  {
   "cell_type": "markdown",
   "id": "82b94fc2",
   "metadata": {},
   "source": [
    "###  Find the longest string in a list of strings. "
   ]
  },
  {
   "cell_type": "code",
   "execution_count": 91,
   "id": "6f174ae4",
   "metadata": {},
   "outputs": [
    {
     "name": "stdout",
     "output_type": "stream",
     "text": [
      "The longest string is: banana\n"
     ]
    }
   ],
   "source": [
    "string_list = [\"apple\", \"banana\", \"cherry\", \"date\", \"fig\", \"grape\"]\n",
    "\n",
    "longest_string = \"\"\n",
    "max_length = 0\n",
    "\n",
    "for string in string_list:\n",
    "    if len(string) > max_length:\n",
    "        longest_string = string\n",
    "        max_length = len(string)\n",
    "\n",
    "print(\"The longest string is:\", longest_string)"
   ]
  },
  {
   "cell_type": "markdown",
   "id": "20f0c8d7",
   "metadata": {},
   "source": [
    "### Find the shortest string in a list of strings. "
   ]
  },
  {
   "cell_type": "code",
   "execution_count": 92,
   "id": "73b0c024",
   "metadata": {},
   "outputs": [
    {
     "name": "stdout",
     "output_type": "stream",
     "text": [
      "The shortest string is: fig\n"
     ]
    }
   ],
   "source": [
    "string_list = [\"apple\", \"banana\", \"cherry\", \"date\", \"fig\", \"grape\"]\n",
    "\n",
    "shortest_string = None\n",
    "min_length = float('inf') \n",
    "\n",
    "for string in string_list:\n",
    "    if len(string) < min_length:\n",
    "        shortest_string = string\n",
    "        min_length = len(string)\n",
    "\n",
    "print(\"The shortest string is:\", shortest_string)"
   ]
  },
  {
   "cell_type": "markdown",
   "id": "ac48e948",
   "metadata": {},
   "source": [
    "### Create a list of the first `n` triangular numbers. "
   ]
  },
  {
   "cell_type": "code",
   "execution_count": 93,
   "id": "99fdf366",
   "metadata": {},
   "outputs": [
    {
     "name": "stdout",
     "output_type": "stream",
     "text": [
      "[1, 3, 6, 10, 15]\n"
     ]
    }
   ],
   "source": [
    "def generate_triangular_numbers(n):\n",
    "    triangular_numbers = []\n",
    "    for i in range(1, n + 1):\n",
    "        number = (i * (i + 1)) // 2\n",
    "        triangular_numbers.append(number)\n",
    "    return triangular_numbers\n",
    "\n",
    "n = 5  \n",
    "triangular_numbers_list = generate_triangular_numbers(n)\n",
    "print(triangular_numbers_list)"
   ]
  },
  {
   "cell_type": "markdown",
   "id": "45e5832d",
   "metadata": {},
   "source": [
    "### Check if a list contains another list as a subsequence. "
   ]
  },
  {
   "cell_type": "code",
   "execution_count": 94,
   "id": "2252c681",
   "metadata": {},
   "outputs": [
    {
     "name": "stdout",
     "output_type": "stream",
     "text": [
      "The subsequence is present in the main list.\n"
     ]
    }
   ],
   "source": [
    "def is_subsequence(subsequence, main_list):\n",
    "    i, j = 0, 0\n",
    "\n",
    "    while i < len(subsequence) and j < len(main_list):\n",
    "        if subsequence[i] == main_list[j]:\n",
    "            i += 1\n",
    "        j += 1\n",
    "\n",
    "    return i == len(subsequence)\n",
    "\n",
    "main_list = [1, 2, 3, 4, 5, 6, 7]\n",
    "subsequence = [3, 4, 5]\n",
    "\n",
    "if is_subsequence(subsequence, main_list):\n",
    "    print(\"The subsequence is present in the main list.\")\n",
    "else:\n",
    "    print(\"The subsequence is not present in the main list.\")"
   ]
  },
  {
   "cell_type": "markdown",
   "id": "570d65cc",
   "metadata": {},
   "source": [
    "### Swap two elements in a list by their indices. "
   ]
  },
  {
   "cell_type": "code",
   "execution_count": 95,
   "id": "0ad0663f",
   "metadata": {},
   "outputs": [
    {
     "name": "stdout",
     "output_type": "stream",
     "text": [
      "[1, 4, 3, 2, 5]\n"
     ]
    }
   ],
   "source": [
    "def swap_elements_by_indices(input_list, index1, index2):\n",
    "    if 0 <= index1 < len(input_list) and 0 <= index2 < len(input_list):\n",
    "        # Swap the elements at index1 and index2\n",
    "        temp = input_list[index1]\n",
    "        input_list[index1] = input_list[index2]\n",
    "        input_list[index2] = temp\n",
    "    else:\n",
    "        print(\"Indices are out of range.\")\n",
    "\n",
    "my_list = [1, 2, 3, 4, 5]\n",
    "swap_elements_by_indices(my_list, 1, 3)\n",
    "\n",
    "print(my_list) "
   ]
  },
  {
   "cell_type": "markdown",
   "id": "fb644452",
   "metadata": {},
   "source": [
    "### Tuple Based Practice Problem :"
   ]
  },
  {
   "cell_type": "code",
   "execution_count": 1,
   "id": "c324e9b1",
   "metadata": {},
   "outputs": [
    {
     "name": "stdout",
     "output_type": "stream",
     "text": [
      "(1, 2, 3, 4, 5)\n"
     ]
    }
   ],
   "source": [
    "# Create a tuple with integers from 1 to 5.\n",
    "t1=(1,2,3,4,5)\n",
    "print(t1)"
   ]
  },
  {
   "cell_type": "code",
   "execution_count": 2,
   "id": "034e7715",
   "metadata": {},
   "outputs": [
    {
     "name": "stdout",
     "output_type": "stream",
     "text": [
      "3\n"
     ]
    }
   ],
   "source": [
    "# Access the third element of a tuple.\n",
    "t1=(1,2,3,4,5)\n",
    "print(t1[2])"
   ]
  },
  {
   "cell_type": "code",
   "execution_count": 3,
   "id": "29007633",
   "metadata": {},
   "outputs": [
    {
     "name": "stdout",
     "output_type": "stream",
     "text": [
      "5\n"
     ]
    }
   ],
   "source": [
    "# Find the length of a tuple without using the `len()` function.\n",
    "t1=(1,2,3,4,5)\n",
    "print(len(t1))"
   ]
  },
  {
   "cell_type": "code",
   "execution_count": 4,
   "id": "205feba6",
   "metadata": {},
   "outputs": [
    {
     "name": "stdout",
     "output_type": "stream",
     "text": [
      "2\n"
     ]
    }
   ],
   "source": [
    "# Count the occurrences of an element in a tuple.\n",
    "t1=(1,2,3,4,5,2,3,4,5)\n",
    "print(t1.count(2))"
   ]
  },
  {
   "cell_type": "code",
   "execution_count": 5,
   "id": "67a10373",
   "metadata": {},
   "outputs": [
    {
     "name": "stdout",
     "output_type": "stream",
     "text": [
      "1\n"
     ]
    }
   ],
   "source": [
    "# Find the index of the first occurrence of an element in a tuple.\n",
    "t1=(1,2,3,4,5)\n",
    "print(t1.index(2))"
   ]
  },
  {
   "cell_type": "code",
   "execution_count": 10,
   "id": "7cd4d865",
   "metadata": {},
   "outputs": [
    {
     "name": "stdout",
     "output_type": "stream",
     "text": [
      "9\n",
      "True\n"
     ]
    }
   ],
   "source": [
    "# Check if an element exists in a tuple.\n",
    "t1=(1,2,3,4,5,6,7,8,9)\n",
    "t2=int(input())\n",
    "if t2 in t1:\n",
    "        print(True)\n",
    "else:\n",
    "        print(False)"
   ]
  },
  {
   "cell_type": "code",
   "execution_count": 11,
   "id": "fa0e670d",
   "metadata": {},
   "outputs": [
    {
     "name": "stdout",
     "output_type": "stream",
     "text": [
      "[1, 2, 3, 4, 5]\n"
     ]
    }
   ],
   "source": [
    "# Convert a tuple to a list.\n",
    "t1=(1,2,3,4,5)\n",
    "l1=list(t1)\n",
    "print(l1)"
   ]
  },
  {
   "cell_type": "code",
   "execution_count": 12,
   "id": "5f091911",
   "metadata": {},
   "outputs": [
    {
     "name": "stdout",
     "output_type": "stream",
     "text": [
      "(1, 2, 3, 4, 5, 6, 7, 8, 9)\n"
     ]
    }
   ],
   "source": [
    "# Convert a list to a tuple.\n",
    "l1=[1,2,3,4,5,6,7,8,9]\n",
    "t1=tuple(l1)\n",
    "print(t1)"
   ]
  },
  {
   "cell_type": "code",
   "execution_count": 18,
   "id": "df07982e",
   "metadata": {},
   "outputs": [
    {
     "name": "stdout",
     "output_type": "stream",
     "text": [
      "1\n",
      "2\n",
      "3\n",
      "4\n",
      "5\n"
     ]
    }
   ],
   "source": [
    "# Unpack the elements of a tuple into variables.\n",
    "t1=(1,2,3,4,5)\n",
    "a,b,c,d,e=t1\n",
    "print(a)\n",
    "print(b)\n",
    "print(c)\n",
    "print(d)\n",
    "print(e)"
   ]
  },
  {
   "cell_type": "code",
   "execution_count": 15,
   "id": "840880e6",
   "metadata": {},
   "outputs": [
    {
     "name": "stdout",
     "output_type": "stream",
     "text": [
      "(2, 4, 6, 8, 10)\n"
     ]
    }
   ],
   "source": [
    "# Create a tuple of even numbers from 1 to 10.\n",
    "l1=[]\n",
    "for i in range(1,11):\n",
    "    if i%2==0:\n",
    "        l1.append(i)\n",
    "t1=tuple(l1)\n",
    "print(t1)"
   ]
  },
  {
   "cell_type": "code",
   "execution_count": 17,
   "id": "4e1d1b24",
   "metadata": {},
   "outputs": [
    {
     "name": "stdout",
     "output_type": "stream",
     "text": [
      "(1, 3, 5, 7, 9)\n"
     ]
    }
   ],
   "source": [
    "# Create a tuple of odd numbers from 1 to 10.\n",
    "l1=[]\n",
    "for i in range(1,11):\n",
    "    if i%2!=0:\n",
    "        l1.append(i)\n",
    "t1=tuple(l1)\n",
    "print(t1)"
   ]
  },
  {
   "cell_type": "code",
   "execution_count": 19,
   "id": "3f46122b",
   "metadata": {},
   "outputs": [
    {
     "name": "stdout",
     "output_type": "stream",
     "text": [
      "(1, 2, 3, 4, 5, 6, 7, 8, 9)\n"
     ]
    }
   ],
   "source": [
    "# Concatenate two tuples.\n",
    "t1=(1,2,3,4,5)\n",
    "t2=(6,7,8,9)\n",
    "print(t1+t2)"
   ]
  },
  {
   "cell_type": "code",
   "execution_count": 20,
   "id": "308aea50",
   "metadata": {},
   "outputs": [
    {
     "name": "stdout",
     "output_type": "stream",
     "text": [
      "(1, 2, 3, 4, 5, 1, 2, 3, 4, 5, 1, 2, 3, 4, 5)\n"
     ]
    }
   ],
   "source": [
    "# Repeat a tuple three times.\n",
    "t1=(1,2,3,4,5)\n",
    "print(t1*3)"
   ]
  },
  {
   "cell_type": "code",
   "execution_count": 21,
   "id": "fba9ac2c",
   "metadata": {},
   "outputs": [
    {
     "name": "stdout",
     "output_type": "stream",
     "text": [
      "tuple is empty\n"
     ]
    }
   ],
   "source": [
    "# Check if a tuple is empty.\n",
    "t1=()\n",
    "if len(t1)==0:\n",
    "    print(\"tuple is empty\")\n",
    "else:\n",
    "    print(\"tuple is not empty\")"
   ]
  },
  {
   "cell_type": "code",
   "execution_count": 23,
   "id": "fb61f35c",
   "metadata": {},
   "outputs": [
    {
     "name": "stdout",
     "output_type": "stream",
     "text": [
      "((1, 2, 3, 4), (5, 6, 7, 8, 9))\n"
     ]
    }
   ],
   "source": [
    "# Create a nested tuple.\n",
    "t1=(1,2,3,4)\n",
    "t2=(5,6,7,8,9)\n",
    "t3=((t1),(t2))\n",
    "print(t3)"
   ]
  },
  {
   "cell_type": "code",
   "execution_count": 24,
   "id": "e2560cfa",
   "metadata": {},
   "outputs": [
    {
     "name": "stdout",
     "output_type": "stream",
     "text": [
      "1\n"
     ]
    }
   ],
   "source": [
    "# Access the first element of a nested tuple.\n",
    "t1=(1,2,3,4)\n",
    "t2=(5,6,7,8,9)\n",
    "t3=((t1),(t2))\n",
    "print(t3[0][0])"
   ]
  },
  {
   "cell_type": "code",
   "execution_count": 25,
   "id": "1c00775f",
   "metadata": {},
   "outputs": [
    {
     "name": "stdout",
     "output_type": "stream",
     "text": [
      "(2,)\n"
     ]
    }
   ],
   "source": [
    "# Create a tuple with a single element.\n",
    "t1=(2,)\n",
    "print(t1)"
   ]
  },
  {
   "cell_type": "code",
   "execution_count": 26,
   "id": "51026dc3",
   "metadata": {},
   "outputs": [
    {
     "name": "stdout",
     "output_type": "stream",
     "text": [
      "True\n"
     ]
    }
   ],
   "source": [
    "# Compare two tuples.\n",
    "t1=(2,3,4,5)\n",
    "t2=(6,7,8,9,1,2,3,4,5)\n",
    "print(t1<t2)"
   ]
  },
  {
   "cell_type": "code",
   "execution_count": 29,
   "id": "44fc40c7",
   "metadata": {},
   "outputs": [],
   "source": [
    "# Delete a tuple.\n",
    "t1=(1,2,3,4,5)\n",
    "del t1"
   ]
  },
  {
   "cell_type": "code",
   "execution_count": 30,
   "id": "2062a053",
   "metadata": {},
   "outputs": [
    {
     "name": "stdout",
     "output_type": "stream",
     "text": [
      "(2, 3, 4, 5)\n"
     ]
    }
   ],
   "source": [
    "# Slice a tuple.\n",
    "t1=(1,2,3,4,5)\n",
    "print(t1[1:])"
   ]
  },
  {
   "cell_type": "code",
   "execution_count": 1,
   "id": "da603bd0",
   "metadata": {},
   "outputs": [
    {
     "name": "stdout",
     "output_type": "stream",
     "text": [
      "5\n"
     ]
    }
   ],
   "source": [
    "# Find the maximum value in a tuple.\n",
    "t1=(1,2,3,4,5)\n",
    "print(max(t1))"
   ]
  },
  {
   "cell_type": "code",
   "execution_count": 2,
   "id": "b29ecfe9",
   "metadata": {},
   "outputs": [
    {
     "name": "stdout",
     "output_type": "stream",
     "text": [
      "1\n"
     ]
    }
   ],
   "source": [
    "# Find the minimum value in a tuple.\n",
    "t1=(1,2,3,4,5)\n",
    "print(min(t1))"
   ]
  },
  {
   "cell_type": "code",
   "execution_count": 3,
   "id": "6c74075c",
   "metadata": {},
   "outputs": [
    {
     "name": "stdout",
     "output_type": "stream",
     "text": [
      "('a', 'b', 'c')\n"
     ]
    }
   ],
   "source": [
    "# Convert a string to a tuple of characters.\n",
    "l1=[]\n",
    "s1=\"abc\"\n",
    "for i in s1:\n",
    "    l1.append(i)\n",
    "t1=tuple(l1)\n",
    "print(t1)"
   ]
  },
  {
   "cell_type": "code",
   "execution_count": 7,
   "id": "d4e91867",
   "metadata": {},
   "outputs": [
    {
     "name": "stdout",
     "output_type": "stream",
     "text": [
      "c\n"
     ]
    }
   ],
   "source": [
    "# Convert a tuple of characters to a string.\n",
    "t1=('a', 'b', 'c')\n",
    "for i in t1:\n",
    "    s1=\" \".join(i)\n",
    "print(s1)"
   ]
  },
  {
   "cell_type": "code",
   "execution_count": 8,
   "id": "b85f64be",
   "metadata": {},
   "outputs": [
    {
     "name": "stdout",
     "output_type": "stream",
     "text": [
      "(1, 2, 'abc', 'pqr', 2.3, 4.5)\n"
     ]
    }
   ],
   "source": [
    "# Create a tuple from multiple data types.\n",
    "t1=(1,2,\"abc\",\"pqr\",2.3,4.5)\n",
    "print(t1)"
   ]
  },
  {
   "cell_type": "code",
   "execution_count": 9,
   "id": "7a020b30",
   "metadata": {},
   "outputs": [
    {
     "name": "stdout",
     "output_type": "stream",
     "text": [
      "tuple are identical\n"
     ]
    }
   ],
   "source": [
    "# Check if two tuples are identical.\n",
    "t1=(1,2,3,4,5)\n",
    "t2=(1,2,3,4,5)\n",
    "if t1==t2:\n",
    "    print(\"tuple are identical\")\n",
    "else:\n",
    "    print(\"tuple are not identical\")"
   ]
  },
  {
   "cell_type": "code",
   "execution_count": 19,
   "id": "d9aca9e7",
   "metadata": {},
   "outputs": [
    {
     "name": "stdout",
     "output_type": "stream",
     "text": [
      "(1, 2, 3, 4, 5, 8, 9)\n"
     ]
    }
   ],
   "source": [
    "# Sort the elements of a tuple.\n",
    "t1=(5,8,9,3,4,2,1)\n",
    "t2=tuple(sorted(t1))\n",
    "print(t2)"
   ]
  },
  {
   "cell_type": "code",
   "execution_count": 25,
   "id": "e486097b",
   "metadata": {},
   "outputs": [
    {
     "name": "stdout",
     "output_type": "stream",
     "text": [
      "['1', '2', '3', '4', '5']\n"
     ]
    }
   ],
   "source": [
    "# Convert a tuple of integers to a tuple of strings.\n",
    "t1=(1,2,3,4,5)\n",
    "l1=[]\n",
    "for i in t1:\n",
    "    l1.append(str(i))\n",
    "print(l1)"
   ]
  },
  {
   "cell_type": "code",
   "execution_count": 24,
   "id": "73378683",
   "metadata": {},
   "outputs": [
    {
     "name": "stdout",
     "output_type": "stream",
     "text": [
      "[1, 2, 3, 4, 5]\n"
     ]
    }
   ],
   "source": [
    "# Convert a tuple of strings to a tuple of integers.\n",
    "t1=('1','2','3','4','5')\n",
    "l1=[]\n",
    "for i in t1:\n",
    "    l1.append(int(i))\n",
    "print(l1)"
   ]
  },
  {
   "cell_type": "code",
   "execution_count": 26,
   "id": "6b51a500",
   "metadata": {},
   "outputs": [
    {
     "name": "stdout",
     "output_type": "stream",
     "text": [
      "(1, 2, 3, 4, 5, 6, 7, 8, 9)\n"
     ]
    }
   ],
   "source": [
    "# Merge two tuples.\n",
    "t1=(1,2,3,4,5)\n",
    "t2=(6,7,8,9)\n",
    "print(t1+t2)"
   ]
  },
  {
   "cell_type": "code",
   "execution_count": 27,
   "id": "f24dbc18",
   "metadata": {},
   "outputs": [
    {
     "name": "stdout",
     "output_type": "stream",
     "text": [
      "(1, 2, 3, 4, 5, 6, 7, 8, 9)\n"
     ]
    }
   ],
   "source": [
    "# Flatten a nested tuple.\n",
    "l1=((1,2,3),(4,5,6),(7,8,9))\n",
    "l2=[]\n",
    "for i in l1:\n",
    "    for j in i:\n",
    "        l2.append(j)\n",
    "print(tuple(l2))"
   ]
  },
  {
   "cell_type": "code",
   "execution_count": null,
   "id": "3f8f4e88",
   "metadata": {},
   "outputs": [],
   "source": [
    "# Create a tuple of the first 5 prime numbers."
   ]
  },
  {
   "cell_type": "code",
   "execution_count": 29,
   "id": "a0437dbc",
   "metadata": {},
   "outputs": [
    {
     "name": "stdout",
     "output_type": "stream",
     "text": [
      "tuple is palindrome\n"
     ]
    }
   ],
   "source": [
    "# Check if a tuple is a palindrome.\n",
    "t1=(1,2,3,4,5,5,4,3,2,1)\n",
    "t2=t1[::-1]\n",
    "if t1==t2:\n",
    "    print(\"tuple is palindrome\")\n",
    "else:\n",
    "    print(\"tuple is not palindrome\")"
   ]
  },
  {
   "cell_type": "code",
   "execution_count": 31,
   "id": "388139b7",
   "metadata": {},
   "outputs": [
    {
     "name": "stdout",
     "output_type": "stream",
     "text": [
      "(1, 4, 9, 16, 25)\n"
     ]
    }
   ],
   "source": [
    "# Create a tuple of squares of numbers from 1 to 5.\n",
    "t1=(1,2,3,4,5)\n",
    "t2=[]\n",
    "for i in t1:\n",
    "    t2.append(i**2)\n",
    "print(tuple(t2))"
   ]
  },
  {
   "cell_type": "code",
   "execution_count": 33,
   "id": "1494c237",
   "metadata": {},
   "outputs": [
    {
     "name": "stdout",
     "output_type": "stream",
     "text": [
      "(2, 4, 6, 8)\n"
     ]
    }
   ],
   "source": [
    "# Filter out all even numbers from a tuple.\n",
    "t1=(1,2,3,4,5,6,7,8,9)\n",
    "t2=[]\n",
    "for i in t1:\n",
    "    if i%2==0:\n",
    "        t2.append(i)\n",
    "print(tuple(t2))"
   ]
  },
  {
   "cell_type": "code",
   "execution_count": 35,
   "id": "5e204f3a",
   "metadata": {},
   "outputs": [
    {
     "name": "stdout",
     "output_type": "stream",
     "text": [
      "(1, 4, 9, 16, 25)\n"
     ]
    }
   ],
   "source": [
    "# Multiply all elements in a tuple by 2.\n",
    "t1=(1,2,3,4,5)\n",
    "t2=[]\n",
    "for i in t1:\n",
    "    t2.append(i**2)\n",
    "print(tuple(t2))"
   ]
  },
  {
   "cell_type": "code",
   "execution_count": 51,
   "id": "750e5eac",
   "metadata": {},
   "outputs": [
    {
     "name": "stdout",
     "output_type": "stream",
     "text": [
      "(0.9474896435793367, 0.5719614124411895, 0.9616490218328161, 0.4909399490381785, 0.7709042865638096, 0.6718294862714703, 0.6435346928655726, 0.9961246486903322, 0.4260561980379721, 0.2599080802489321)\n"
     ]
    }
   ],
   "source": [
    "# Create a tuple of random numbers.\n",
    "import random\n",
    "nums = tuple(random.random() for _ in range(10))\n",
    "print(nums)"
   ]
  },
  {
   "cell_type": "code",
   "execution_count": 43,
   "id": "cf8a6d4c",
   "metadata": {},
   "outputs": [
    {
     "name": "stdout",
     "output_type": "stream",
     "text": [
      "tuple is sorted\n"
     ]
    }
   ],
   "source": [
    "# Check if a tuple is sorted.\n",
    "t1=(1,2,3,4,5)\n",
    "t2=tuple(sorted(t1))\n",
    "if t1==t2:\n",
    "    print(\"tuple is sorted\")\n",
    "else:\n",
    "    print(\"tuple is not sorted\")"
   ]
  },
  {
   "cell_type": "code",
   "execution_count": 45,
   "id": "4ebbd3a3",
   "metadata": {},
   "outputs": [
    {
     "name": "stdout",
     "output_type": "stream",
     "text": [
      "(4, 5, 6, 7, 8, 9, 1, 2, 3)\n"
     ]
    }
   ],
   "source": [
    "# Rotate a tuple to the left by `n` positions.\n",
    "l1=(1,2,3,4,5,6,7,8,9)\n",
    "n=3\n",
    "rotated_tuple=l1[n:]+l1[:n]\n",
    "print(rotated_tuple)"
   ]
  },
  {
   "cell_type": "code",
   "execution_count": 46,
   "id": "e58cb80b",
   "metadata": {},
   "outputs": [
    {
     "name": "stdout",
     "output_type": "stream",
     "text": [
      "[1, 2, 3, 4, 5, 6, 7, 8, 9]\n"
     ]
    }
   ],
   "source": [
    "# Rotate a tuple to the right by `n` positions.\n",
    "l1=[1,2,3,4,5,6,7,8,9]\n",
    "n=3\n",
    "rotated_tuple_left=l1[n:]+l1[:n]\n",
    "rotated_tuple_right=rotated_tuple_left[-3:]+rotated_tuple_left[:-3]\n",
    "print(rotated_tuple_right)"
   ]
  },
  {
   "cell_type": "code",
   "execution_count": 55,
   "id": "52191156",
   "metadata": {},
   "outputs": [
    {
     "name": "stdout",
     "output_type": "stream",
     "text": [
      "1,2,3,4,5\n",
      "('1', '2', '3', '4', '5')\n"
     ]
    }
   ],
   "source": [
    "# Create a tuple from user input.\n",
    "n=input().split(\",\")\n",
    "t1=tuple(n)\n",
    "print(t1)"
   ]
  },
  {
   "cell_type": "code",
   "execution_count": 57,
   "id": "b24e3890",
   "metadata": {},
   "outputs": [
    {
     "name": "stdout",
     "output_type": "stream",
     "text": [
      "(2, 1)\n"
     ]
    }
   ],
   "source": [
    "# Swap two elements in a tuple.\n",
    "t1=(1,2)\n",
    "t2=list(t1)\n",
    "t2[0],t2[1]=t2[1],t2[0]\n",
    "t3=tuple(t2)\n",
    "print(t3)"
   ]
  },
  {
   "cell_type": "code",
   "execution_count": 60,
   "id": "d98dffcd",
   "metadata": {},
   "outputs": [
    {
     "name": "stdout",
     "output_type": "stream",
     "text": [
      "(5, 4, 3, 2, 1)\n"
     ]
    }
   ],
   "source": [
    "# Reverse the elements of a tuple.\n",
    "t1=(1,2,3,4,5)\n",
    "t2=list(t1)[::-1]\n",
    "print(tuple(t2))"
   ]
  },
  {
   "cell_type": "code",
   "execution_count": 61,
   "id": "7410ad81",
   "metadata": {},
   "outputs": [
    {
     "name": "stdout",
     "output_type": "stream",
     "text": [
      "(1, 2, 4, 8, 16)\n"
     ]
    }
   ],
   "source": [
    "# Create a tuple of the first `n` powers of 2.\n",
    "n = 5 \n",
    "powers_of_2 = tuple(2 ** i for i in range(n))\n",
    "print(powers_of_2)"
   ]
  },
  {
   "cell_type": "code",
   "execution_count": 71,
   "id": "1366e8f8",
   "metadata": {},
   "outputs": [
    {
     "name": "stdout",
     "output_type": "stream",
     "text": [
      "The longest string is: elderberry\n"
     ]
    }
   ],
   "source": [
    "# Find the longest string in a tuple of strings.\n",
    "string_tuple = (\"apple\", \"banana\", \"cherry\", \"date\", \"elderberry\")\n",
    "max_len = -1\n",
    "for ele in string_tuple:\n",
    "    if len(ele) > max_len:\n",
    "        max_len = len(ele)\n",
    "        res = ele\n",
    "print(\"The longest string is:\", ele)"
   ]
  },
  {
   "cell_type": "code",
   "execution_count": 77,
   "id": "92bab112",
   "metadata": {},
   "outputs": [
    {
     "name": "stdout",
     "output_type": "stream",
     "text": [
      "The shortest string is: date\n"
     ]
    }
   ],
   "source": [
    "# Find the shortest string in a tuple of strings.\n",
    "string_tuple = (\"apple\", \"banana\", \"cherry\", \"date\", \"elderberry\")\n",
    "res = min(string_tuple, key=len)\n",
    "print(\"The shortest string is:\", res)"
   ]
  },
  {
   "cell_type": "code",
   "execution_count": 78,
   "id": "d65280f3",
   "metadata": {},
   "outputs": [
    {
     "name": "stdout",
     "output_type": "stream",
     "text": [
      "(1, 3, 6, 10, 15)\n"
     ]
    }
   ],
   "source": [
    "# Create a tuple of the first `n` triangular numbers.\n",
    "def generate_triangular_numbers(n):\n",
    "    triangular_numbers = tuple((i * (i + 1)) // 2 for i in range(1, n + 1))\n",
    "    return triangular_numbers\n",
    "\n",
    "n = 5  \n",
    "triangular_numbers_tuple = generate_triangular_numbers(n)\n",
    "print(triangular_numbers_tuple)"
   ]
  },
  {
   "cell_type": "code",
   "execution_count": 79,
   "id": "000ffe09",
   "metadata": {},
   "outputs": [
    {
     "name": "stdout",
     "output_type": "stream",
     "text": [
      "The sub_tuple is a subsequence of main_tuple.\n"
     ]
    }
   ],
   "source": [
    "# Check if a tuple contains another tuple as a subsequence.\n",
    "def is_subsequence(sub, main):\n",
    "    sub_len = len(sub)\n",
    "    main_len = len(main)\n",
    "\n",
    "    # Handle special cases\n",
    "    if sub_len == 0:\n",
    "        return True\n",
    "    if sub_len > main_len:\n",
    "        return False\n",
    "\n",
    "    for i in range(main_len - sub_len + 1):\n",
    "        if main[i:i + sub_len] == sub:\n",
    "            return True\n",
    "\n",
    "    return False\n",
    "\n",
    "# Example usage:\n",
    "main_tuple = (1, 2, 3, 4, 5, 6, 7)\n",
    "sub_tuple = (3, 4, 5)\n",
    "\n",
    "if is_subsequence(sub_tuple, main_tuple):\n",
    "    print(\"The sub_tuple is a subsequence of main_tuple.\")\n",
    "else:\n",
    "    print(\"The sub_tuple is not a subsequence of main_tuple.\")"
   ]
  },
  {
   "cell_type": "code",
   "execution_count": 80,
   "id": "2d6fa9df",
   "metadata": {},
   "outputs": [
    {
     "name": "stdout",
     "output_type": "stream",
     "text": [
      "(1, 0, 1, 0, 1, 0, 1, 0, 1, 0)\n"
     ]
    }
   ],
   "source": [
    "# Create a tuple of alternating 1s and 0s of length `n`.\n",
    "n = 10 \n",
    "alternating_tuple = tuple(1 if i % 2 == 0 else 0 for i in range(n))\n",
    "print(alternating_tuple)"
   ]
  },
  {
   "cell_type": "markdown",
   "id": "cb9ba01d",
   "metadata": {},
   "source": [
    "### Set Based Practice Problem :"
   ]
  },
  {
   "cell_type": "code",
   "execution_count": 96,
   "id": "dc828349",
   "metadata": {},
   "outputs": [
    {
     "name": "stdout",
     "output_type": "stream",
     "text": [
      "{1, 2, 3, 4, 5}\n"
     ]
    }
   ],
   "source": [
    "# Create a set with integers from 1 to 5.\n",
    "s={1,2,3,4,5}\n",
    "print(s)"
   ]
  },
  {
   "cell_type": "code",
   "execution_count": 98,
   "id": "a83ac7fb",
   "metadata": {},
   "outputs": [
    {
     "name": "stdout",
     "output_type": "stream",
     "text": [
      "{1, 2, 3, 4, 5, 6}\n"
     ]
    }
   ],
   "source": [
    "# Add an element to a set.\n",
    "s={1,2,3,4,5}\n",
    "s.add(6)\n",
    "print(s)"
   ]
  },
  {
   "cell_type": "code",
   "execution_count": 99,
   "id": "2418680a",
   "metadata": {},
   "outputs": [
    {
     "name": "stdout",
     "output_type": "stream",
     "text": [
      "{1, 3, 4, 5}\n"
     ]
    }
   ],
   "source": [
    "# Remove an element from a set.\n",
    "s={1,2,3,4,5}\n",
    "s.remove(2)\n",
    "print(s)"
   ]
  },
  {
   "cell_type": "code",
   "execution_count": 100,
   "id": "b979de92",
   "metadata": {},
   "outputs": [
    {
     "name": "stdout",
     "output_type": "stream",
     "text": [
      "exist\n"
     ]
    }
   ],
   "source": [
    "# Check if an element exists in a set.\n",
    "s={1,2,3,4,5}\n",
    "if 2 in s:\n",
    "    print(\"exist\")\n",
    "else:\n",
    "    print(\"not exist\")"
   ]
  },
  {
   "cell_type": "code",
   "execution_count": 102,
   "id": "d6a55228",
   "metadata": {},
   "outputs": [
    {
     "name": "stdout",
     "output_type": "stream",
     "text": [
      "Length of the set: 5\n"
     ]
    }
   ],
   "source": [
    "# Find the length of a set without using the `len()` function.\n",
    "def find_set_length(input_set):\n",
    "    count = 0\n",
    "    for _ in input_set:\n",
    "        count += 1\n",
    "    return count\n",
    "\n",
    "my_set = {1, 2, 3, 4, 5}\n",
    "set_length = find_set_length(my_set)\n",
    "\n",
    "print(\"Length of the set:\", set_length)"
   ]
  },
  {
   "cell_type": "code",
   "execution_count": 103,
   "id": "fed5402c",
   "metadata": {},
   "outputs": [
    {
     "name": "stdout",
     "output_type": "stream",
     "text": [
      "set()\n"
     ]
    }
   ],
   "source": [
    "# Clear all elements from a set.\n",
    "s={1,2,3,4,5}\n",
    "s.clear()\n",
    "print(s)"
   ]
  },
  {
   "cell_type": "code",
   "execution_count": 104,
   "id": "d53dae58",
   "metadata": {},
   "outputs": [
    {
     "name": "stdout",
     "output_type": "stream",
     "text": [
      "{2, 4, 6, 8, 10}\n"
     ]
    }
   ],
   "source": [
    "# Create a set of even numbers from 1 to 10.\n",
    "even_numbers = {x for x in range(1, 11) if x % 2 == 0}\n",
    "print(even_numbers)"
   ]
  },
  {
   "cell_type": "code",
   "execution_count": 105,
   "id": "dcf03299",
   "metadata": {},
   "outputs": [
    {
     "name": "stdout",
     "output_type": "stream",
     "text": [
      "{1, 3, 5, 7, 9}\n"
     ]
    }
   ],
   "source": [
    "# Create a set of odd numbers from 1 to 10.\n",
    "odd_numbers = {x for x in range(1, 11) if x % 2 != 0}\n",
    "print(odd_numbers)"
   ]
  },
  {
   "cell_type": "code",
   "execution_count": 107,
   "id": "4d28e523",
   "metadata": {},
   "outputs": [
    {
     "name": "stdout",
     "output_type": "stream",
     "text": [
      "{1, 2, 3, 4, 5, 6}\n"
     ]
    }
   ],
   "source": [
    "# Find the union of two sets.\n",
    "set1 = {1, 2, 3, 4}\n",
    "set2 = {3, 4, 5, 6}\n",
    "union_set = set1.union(set2)\n",
    "print(union_set)"
   ]
  },
  {
   "cell_type": "code",
   "execution_count": 109,
   "id": "d9465ff6",
   "metadata": {},
   "outputs": [
    {
     "name": "stdout",
     "output_type": "stream",
     "text": [
      "{3, 4}\n"
     ]
    }
   ],
   "source": [
    "# Find the intersection of two sets.\n",
    "set1 = {1, 2, 3, 4}\n",
    "set2 = {3, 4, 5, 6}\n",
    "intersection_set = set1.intersection(set2)\n",
    "print(intersection_set)"
   ]
  },
  {
   "cell_type": "code",
   "execution_count": 110,
   "id": "a425d4a4",
   "metadata": {},
   "outputs": [
    {
     "name": "stdout",
     "output_type": "stream",
     "text": [
      "{1, 2}\n"
     ]
    }
   ],
   "source": [
    "# Find the difference between two sets.\n",
    "set1 = {1, 2, 3, 4}\n",
    "set2 = {3, 4, 5, 6}\n",
    "difference_set = set1 - set2\n",
    "print(difference_set)"
   ]
  },
  {
   "cell_type": "code",
   "execution_count": 112,
   "id": "319bea7d",
   "metadata": {},
   "outputs": [
    {
     "name": "stdout",
     "output_type": "stream",
     "text": [
      "set2 is a subset of set1.\n"
     ]
    }
   ],
   "source": [
    "# Check if a set is a subset of another set.\n",
    "set1 = {1, 2, 3, 4, 5}\n",
    "set2 = {2, 4, 5}\n",
    "is_subset = set2.issubset(set1)\n",
    "if is_subset:\n",
    "    print(\"set2 is a subset of set1.\")\n",
    "else:\n",
    "    print(\"set2 is not a subset of set1.\")"
   ]
  },
  {
   "cell_type": "code",
   "execution_count": 113,
   "id": "da6a3fbd",
   "metadata": {},
   "outputs": [
    {
     "name": "stdout",
     "output_type": "stream",
     "text": [
      "set1 is a superset of set2.\n"
     ]
    }
   ],
   "source": [
    "# Check if a set is a superset of another set.\n",
    "set1 = {1, 2, 3, 4, 5}\n",
    "set2 = {2, 4, 5}\n",
    "is_superset = set1.issuperset(set2)\n",
    "if is_superset:\n",
    "    print(\"set1 is a superset of set2.\")\n",
    "else:\n",
    "    print(\"set1 is not a superset of set2.\")"
   ]
  },
  {
   "cell_type": "code",
   "execution_count": 114,
   "id": "e9772d1b",
   "metadata": {},
   "outputs": [
    {
     "name": "stdout",
     "output_type": "stream",
     "text": [
      "{1, 2, 3, 4, 5}\n"
     ]
    }
   ],
   "source": [
    "# Create a set from a list.\n",
    "my_list = [1, 2, 3, 4, 5]\n",
    "my_set = set(my_list)\n",
    "print(my_set)"
   ]
  },
  {
   "cell_type": "code",
   "execution_count": 115,
   "id": "1af9ec7f",
   "metadata": {},
   "outputs": [
    {
     "name": "stdout",
     "output_type": "stream",
     "text": [
      "[1, 2, 3, 4, 5]\n"
     ]
    }
   ],
   "source": [
    "# Convert a set to a list.\n",
    "my_set = {1, 2, 3, 4, 5}\n",
    "my_list = list(my_set)\n",
    "print(my_list)"
   ]
  },
  {
   "cell_type": "code",
   "execution_count": 116,
   "id": "ede6991d",
   "metadata": {},
   "outputs": [
    {
     "name": "stdout",
     "output_type": "stream",
     "text": [
      "Removed element: 1\n",
      "Updated set: {2, 3, 4, 5}\n"
     ]
    }
   ],
   "source": [
    "# Remove a random element from a set.\n",
    "my_set = {1, 2, 3, 4, 5}\n",
    "removed_element = my_set.pop()\n",
    "print(\"Removed element:\", removed_element)\n",
    "print(\"Updated set:\", my_set)"
   ]
  },
  {
   "cell_type": "code",
   "execution_count": 117,
   "id": "0ffa6d2b",
   "metadata": {},
   "outputs": [
    {
     "name": "stdout",
     "output_type": "stream",
     "text": [
      "Popped element: 1\n",
      "Updated set: {2, 3, 4, 5}\n"
     ]
    }
   ],
   "source": [
    "# Pop an element from a set.\n",
    "my_set = {1, 2, 3, 4, 5}\n",
    "popped_element = my_set.pop()\n",
    "print(\"Popped element:\", popped_element)\n",
    "print(\"Updated set:\", my_set)"
   ]
  },
  {
   "cell_type": "code",
   "execution_count": 118,
   "id": "e60b2816",
   "metadata": {},
   "outputs": [
    {
     "name": "stdout",
     "output_type": "stream",
     "text": [
      "The sets have no elements in common.\n"
     ]
    }
   ],
   "source": [
    "# Check if two sets have no elements in common.\n",
    "set1 = {1, 2, 3}\n",
    "set2 = {4, 5, 6}\n",
    "are_disjoint = set1.isdisjoint(set2)\n",
    "if are_disjoint:\n",
    "    print(\"The sets have no elements in common.\")\n",
    "else:\n",
    "    print(\"The sets have at least one element in common.\")"
   ]
  },
  {
   "cell_type": "code",
   "execution_count": 119,
   "id": "660e36e6",
   "metadata": {},
   "outputs": [
    {
     "name": "stdout",
     "output_type": "stream",
     "text": [
      "{1, 2, 5, 6}\n"
     ]
    }
   ],
   "source": [
    "# Find the symmetric difference between two sets.\n",
    "set1 = {1, 2, 3, 4}\n",
    "set2 = {3, 4, 5, 6}\n",
    "symmetric_diff = set1.symmetric_difference(set2)\n",
    "print(symmetric_diff)"
   ]
  },
  {
   "cell_type": "code",
   "execution_count": 120,
   "id": "2ffc12f3",
   "metadata": {},
   "outputs": [
    {
     "name": "stdout",
     "output_type": "stream",
     "text": [
      "{1, 2, 3, 4, 5}\n"
     ]
    }
   ],
   "source": [
    "# Update a set with elements from another set.\n",
    "set1 = {1, 2, 3}\n",
    "set2 = {3, 4, 5}\n",
    "set1.update(set2)\n",
    "print(set1)"
   ]
  },
  {
   "cell_type": "code",
   "execution_count": 121,
   "id": "2d5723bc",
   "metadata": {},
   "outputs": [
    {
     "name": "stdout",
     "output_type": "stream",
     "text": [
      "{2, 3, 5, 7, 11}\n"
     ]
    }
   ],
   "source": [
    "# Create a set of the first 5 prime numbers.\n",
    "prime_numbers = {2, 3, 5, 7, 11}\n",
    "print(prime_numbers)"
   ]
  },
  {
   "cell_type": "code",
   "execution_count": 122,
   "id": "59cb825e",
   "metadata": {},
   "outputs": [
    {
     "name": "stdout",
     "output_type": "stream",
     "text": [
      "The sets are identical.\n"
     ]
    }
   ],
   "source": [
    "# Check if two sets are identical.\n",
    "set1 = {1, 2, 3, 4}\n",
    "set2 = {4, 3, 2, 1}\n",
    "if set1 == set2:\n",
    "    print(\"The sets are identical.\")\n",
    "else:\n",
    "    print(\"The sets are not identical.\")"
   ]
  },
  {
   "cell_type": "code",
   "execution_count": 123,
   "id": "df6d0582",
   "metadata": {},
   "outputs": [
    {
     "name": "stdout",
     "output_type": "stream",
     "text": [
      "frozenset({1, 2, 3, 4, 5})\n"
     ]
    }
   ],
   "source": [
    "# Create a frozen set.\n",
    "my_set = {1, 2, 3, 4, 5}\n",
    "frozen_set = frozenset(my_set)\n",
    "print(frozen_set)"
   ]
  },
  {
   "cell_type": "code",
   "execution_count": 124,
   "id": "7ee2c90e",
   "metadata": {},
   "outputs": [
    {
     "name": "stdout",
     "output_type": "stream",
     "text": [
      "The sets are disjoint (have no common elements).\n"
     ]
    }
   ],
   "source": [
    "# Check if a set is disjoint with another set.\n",
    "set1 = {1, 2, 3}\n",
    "set2 = {4, 5, 6}\n",
    "are_disjoint = set1.isdisjoint(set2)\n",
    "if are_disjoint:\n",
    "    print(\"The sets are disjoint (have no common elements).\")\n",
    "else:\n",
    "    print(\"The sets are not disjoint (have common elements).\")"
   ]
  },
  {
   "cell_type": "code",
   "execution_count": 125,
   "id": "416dca92",
   "metadata": {},
   "outputs": [
    {
     "name": "stdout",
     "output_type": "stream",
     "text": [
      "{1, 4, 9, 16, 25}\n"
     ]
    }
   ],
   "source": [
    "# Create a set of squares of numbers from 1 to 5.\n",
    "squares_set = {x**2 for x in range(1, 6)}\n",
    "print(squares_set)"
   ]
  },
  {
   "cell_type": "code",
   "execution_count": 127,
   "id": "c27ab2a5",
   "metadata": {},
   "outputs": [
    {
     "name": "stdout",
     "output_type": "stream",
     "text": [
      "{8, 2, 4, 6}\n"
     ]
    }
   ],
   "source": [
    "# Filter out all even numbers from a set.\n",
    "my_set = {1, 2, 3, 4, 5, 6, 7, 8}\n",
    "filtered_set = {x for x in my_set if x % 2 == 0}\n",
    "print(filtered_set)"
   ]
  },
  {
   "cell_type": "code",
   "execution_count": 128,
   "id": "0baf8276",
   "metadata": {},
   "outputs": [
    {
     "name": "stdout",
     "output_type": "stream",
     "text": [
      "{2, 4, 6, 8, 10}\n"
     ]
    }
   ],
   "source": [
    "# Multiply all elements in a set by 2.\n",
    "my_set = {1, 2, 3, 4, 5}\n",
    "doubled_set = {x * 2 for x in my_set}\n",
    "print(doubled_set)"
   ]
  },
  {
   "cell_type": "code",
   "execution_count": 129,
   "id": "aa1f0b05",
   "metadata": {},
   "outputs": [
    {
     "name": "stdout",
     "output_type": "stream",
     "text": [
      "{35, 42, 11, 47, 51, 19, 24, 90, 60, 93}\n"
     ]
    }
   ],
   "source": [
    "# Create a set of random numbers.\n",
    "import random\n",
    "random_set = set()\n",
    "for _ in range(10):  # Generate 10 random numbers\n",
    "    random_number = random.randint(1, 100)  # Generate random integers between 1 and 100 (adjust the range as needed)\n",
    "    random_set.add(random_number)\n",
    "print(random_set)"
   ]
  },
  {
   "cell_type": "code",
   "execution_count": 130,
   "id": "c4e02bcf",
   "metadata": {},
   "outputs": [
    {
     "name": "stdout",
     "output_type": "stream",
     "text": [
      "The set is empty.\n"
     ]
    }
   ],
   "source": [
    "# Check if a set is empty.\n",
    "my_set = set()\n",
    "if not my_set:\n",
    "    print(\"The set is empty.\")\n",
    "else:\n",
    "    print(\"The set is not empty.\")"
   ]
  },
  {
   "cell_type": "code",
   "execution_count": 131,
   "id": "474281e7",
   "metadata": {},
   "outputs": [
    {
     "name": "stdout",
     "output_type": "stream",
     "text": [
      "{frozenset({3, 4}), 1, 2, 5}\n"
     ]
    }
   ],
   "source": [
    "# Create a nested set (hint: use frozenset).\n",
    "nested_set = {1, 2, frozenset({3, 4}), 5}\n",
    "print(nested_set)"
   ]
  },
  {
   "cell_type": "code",
   "execution_count": 132,
   "id": "4df7743d",
   "metadata": {},
   "outputs": [
    {
     "name": "stdout",
     "output_type": "stream",
     "text": [
      "{1, 2, 4, 5}\n"
     ]
    }
   ],
   "source": [
    "# Remove an element from a set using the discard method.\n",
    "my_set = {1, 2, 3, 4, 5}\n",
    "my_set.discard(3)\n",
    "my_set.discard(6)\n",
    "print(my_set)"
   ]
  },
  {
   "cell_type": "code",
   "execution_count": 134,
   "id": "46c58fd6",
   "metadata": {},
   "outputs": [
    {
     "name": "stdout",
     "output_type": "stream",
     "text": [
      "Using issubset(): True\n",
      "Using <=: True\n"
     ]
    }
   ],
   "source": [
    "# Compare two sets.\n",
    "set1 = {1, 2, 3, 4, 5}\n",
    "set2 = {2, 4, 5}\n",
    "is_subset = set2.issubset(set1)\n",
    "is_subset_operator = set2 <= set1\n",
    "print(\"Using issubset():\", is_subset)\n",
    "print(\"Using <=:\", is_subset_operator)"
   ]
  },
  {
   "cell_type": "code",
   "execution_count": 135,
   "id": "01190064",
   "metadata": {},
   "outputs": [
    {
     "name": "stdout",
     "output_type": "stream",
     "text": [
      "{'o', 'h', ' ', 'w', 'd', 'r', 'e', 'l'}\n"
     ]
    }
   ],
   "source": [
    "# Create a set from a string.\n",
    "my_string = \"hello world\"\n",
    "my_set = {char for char in my_string}\n",
    "print(my_set)"
   ]
  },
  {
   "cell_type": "code",
   "execution_count": 136,
   "id": "38c8306e",
   "metadata": {},
   "outputs": [
    {
     "name": "stdout",
     "output_type": "stream",
     "text": [
      "{1, 2, 3, 4, 5}\n"
     ]
    }
   ],
   "source": [
    "# Convert a set of strings to a set of integers.\n",
    "set_of_strings = {\"1\", \"2\", \"3\", \"4\", \"5\"}\n",
    "\n",
    "set_of_integers = {int(s) for s in set_of_strings}\n",
    "\n",
    "print(set_of_integers)"
   ]
  },
  {
   "cell_type": "code",
   "execution_count": 137,
   "id": "6c2b9983",
   "metadata": {},
   "outputs": [
    {
     "name": "stdout",
     "output_type": "stream",
     "text": [
      "{'4', '2', '5', '3', '1'}\n"
     ]
    }
   ],
   "source": [
    "# Convert a set of integers to a set of strings.\n",
    "set_of_integers = {1, 2, 3, 4, 5}\n",
    "\n",
    "set_of_strings = {str(i) for i in set_of_integers}\n",
    "\n",
    "print(set_of_strings)"
   ]
  },
  {
   "cell_type": "code",
   "execution_count": 138,
   "id": "e748a87c",
   "metadata": {},
   "outputs": [
    {
     "name": "stdout",
     "output_type": "stream",
     "text": [
      "{1, 2, 3, 4, 5}\n"
     ]
    }
   ],
   "source": [
    "# Create a set from a tuple.\n",
    "my_tuple = (1, 2, 3, 4, 5)\n",
    "my_set = set(my_tuple)\n",
    "\n",
    "print(my_set)"
   ]
  },
  {
   "cell_type": "code",
   "execution_count": 139,
   "id": "84e37c68",
   "metadata": {},
   "outputs": [
    {
     "name": "stdout",
     "output_type": "stream",
     "text": [
      "(1, 2, 3, 4, 5)\n"
     ]
    }
   ],
   "source": [
    "# Convert a set to a tuple.\n",
    "my_set = {1, 2, 3, 4, 5}\n",
    "my_tuple = tuple(my_set)\n",
    "\n",
    "print(my_tuple)"
   ]
  },
  {
   "cell_type": "code",
   "execution_count": 158,
   "id": "04a86187",
   "metadata": {},
   "outputs": [
    {
     "name": "stdout",
     "output_type": "stream",
     "text": [
      "Enter an element (or 'done' to finish): 1\n",
      "Enter an element (or 'done' to finish): 2\n",
      "Enter an element (or 'done' to finish): 3\n",
      "Enter an element (or 'done' to finish): 4\n",
      "Enter an element (or 'done' to finish): 5\n",
      "Enter an element (or 'done' to finish): done\n",
      "User's set: {'4', '2', '5', '3', '1'}\n"
     ]
    }
   ],
   "source": [
    "# Create a set from user input.\n",
    "user_set = set()\n",
    "\n",
    "while True:\n",
    "    user_input = input(\"Enter an element (or 'done' to finish): \")\n",
    "    \n",
    "    if user_input.lower() == 'done':\n",
    "        break\n",
    "    \n",
    "    user_set.add(user_input)\n",
    "\n",
    "print(\"User's set:\", user_set)"
   ]
  },
  {
   "cell_type": "code",
   "execution_count": 157,
   "id": "a054ff13",
   "metadata": {},
   "outputs": [
    {
     "name": "stdout",
     "output_type": "stream",
     "text": [
      "The sets have no common elements (intersection is empty).\n"
     ]
    }
   ],
   "source": [
    "# Check if the intersection of two sets is empty.\n",
    "set1 = {1, 2, 3}\n",
    "set2 = {4, 5, 6}\n",
    "\n",
    "are_disjoint = set1.isdisjoint(set2)\n",
    "\n",
    "if are_disjoint:\n",
    "    print(\"The sets have no common elements (intersection is empty).\")\n",
    "else:\n",
    "    print(\"The sets have common elements (intersection is not empty).\")"
   ]
  },
  {
   "cell_type": "code",
   "execution_count": 156,
   "id": "4bae7deb",
   "metadata": {},
   "outputs": [
    {
     "name": "stdout",
     "output_type": "stream",
     "text": [
      "{0, 1, 2, 3}\n"
     ]
    }
   ],
   "source": [
    "# Create a set of the first 5 Fibonacci numbers.\n",
    "n = 5  \n",
    "\n",
    "def generate_fibonacci(n):\n",
    "    fibonacci = set()\n",
    "    a, b = 0, 1\n",
    "    for _ in range(n):\n",
    "        fibonacci.add(a)\n",
    "        a, b = b, a + b\n",
    "    return fibonacci\n",
    "\n",
    "fibonacci_set = generate_fibonacci(n)\n",
    "\n",
    "print(fibonacci_set)"
   ]
  },
  {
   "cell_type": "code",
   "execution_count": 155,
   "id": "1e716558",
   "metadata": {},
   "outputs": [
    {
     "name": "stdout",
     "output_type": "stream",
     "text": [
      "[1, 2, 3, 4, 5]\n"
     ]
    }
   ],
   "source": [
    "# Remove duplicates from a list using sets.\n",
    "my_list = [1, 2, 2, 3, 4, 4, 5, 5]\n",
    "\n",
    "\n",
    "unique_list = list(set(my_list))\n",
    "\n",
    "print(unique_list)"
   ]
  },
  {
   "cell_type": "code",
   "execution_count": 154,
   "id": "5d447fb2",
   "metadata": {},
   "outputs": [
    {
     "name": "stdout",
     "output_type": "stream",
     "text": [
      "The sets have the same elements, regardless of count.\n"
     ]
    }
   ],
   "source": [
    "# Check if two sets have the same elements, regardless of their count.\n",
    "set1 = {1, 2, 3, 4, 5}\n",
    "set2 = {5, 4, 3, 2, 1}\n",
    "\n",
    "\n",
    "have_same_elements = not bool(set1.symmetric_difference(set2))\n",
    "\n",
    "if have_same_elements:\n",
    "    print(\"The sets have the same elements, regardless of count.\")\n",
    "else:\n",
    "    print(\"The sets do not have the same elements, regardless of count.\")"
   ]
  },
  {
   "cell_type": "code",
   "execution_count": 153,
   "id": "785dc199",
   "metadata": {},
   "outputs": [
    {
     "name": "stdout",
     "output_type": "stream",
     "text": [
      "{1, 2, 4, 8, 16}\n"
     ]
    }
   ],
   "source": [
    "# Create a set of the first `n` powers of 2.\n",
    "n = 5 \n",
    "\n",
    "powers_of_2 = {2 ** i for i in range(n)}\n",
    "\n",
    "print(powers_of_2)"
   ]
  },
  {
   "cell_type": "code",
   "execution_count": 152,
   "id": "7de8d43f",
   "metadata": {},
   "outputs": [
    {
     "name": "stdout",
     "output_type": "stream",
     "text": [
      "{3, 4, 5}\n"
     ]
    }
   ],
   "source": [
    "# Find the common elements between a set and a list.\n",
    "my_set = {1, 2, 3, 4, 5}\n",
    "my_list = [3, 4, 5, 6, 7]\n",
    "\n",
    "common_elements = my_set.intersection(my_list)\n",
    "print(common_elements)"
   ]
  },
  {
   "cell_type": "code",
   "execution_count": 151,
   "id": "e5735a2c",
   "metadata": {},
   "outputs": [
    {
     "name": "stdout",
     "output_type": "stream",
     "text": [
      "{1, 3, 6, 10, 15}\n"
     ]
    }
   ],
   "source": [
    "# Create a set of the first `n` triangular numbers.\n",
    "n = 5  \n",
    "\n",
    "triangular_numbers = {(i * (i + 1)) // 2 for i in range(1, n + 1)}\n",
    "\n",
    "print(triangular_numbers)"
   ]
  },
  {
   "cell_type": "code",
   "execution_count": 150,
   "id": "ef930fae",
   "metadata": {},
   "outputs": [
    {
     "name": "stdout",
     "output_type": "stream",
     "text": [
      "set2 is a subset of set1.\n"
     ]
    }
   ],
   "source": [
    "# Check if a set contains another set as a subset.\n",
    "set1 = {1, 2, 3, 4, 5}\n",
    "set2 = {2, 4, 5}\n",
    "\n",
    "is_subset = set2.issubset(set1)\n",
    "\n",
    "if is_subset:\n",
    "    print(\"set2 is a subset of set1.\")\n",
    "else:\n",
    "    print(\"set2 is not a subset of set1.\")"
   ]
  },
  {
   "cell_type": "code",
   "execution_count": 149,
   "id": "a7a12dbb",
   "metadata": {},
   "outputs": [
    {
     "name": "stdout",
     "output_type": "stream",
     "text": [
      "{0, 1}\n"
     ]
    }
   ],
   "source": [
    "# Create a set of alternating 1s and 0s of length `n`.\n",
    "n = 10  \n",
    "alternating_set = {1 if i % 2 == 0 else 0 for i in range(n)}\n",
    "print(alternating_set)"
   ]
  },
  {
   "cell_type": "code",
   "execution_count": 147,
   "id": "e35f5a4e",
   "metadata": {},
   "outputs": [
    {
     "name": "stdout",
     "output_type": "stream",
     "text": [
      "{1, 2, 3, 4, 5, 6, 7}\n"
     ]
    }
   ],
   "source": [
    "# Merge multiple sets into one.\n",
    "set1 = {1, 2, 3}\n",
    "set2 = {3, 4, 5}\n",
    "set3 = {5, 6, 7}\n",
    "\n",
    "merged_set = set1.union(set2, set3)\n",
    "print(merged_set)"
   ]
  },
  {
   "cell_type": "code",
   "execution_count": null,
   "id": "befbc724",
   "metadata": {},
   "outputs": [],
   "source": []
  },
  {
   "cell_type": "code",
   "execution_count": null,
   "id": "55a9769a",
   "metadata": {},
   "outputs": [],
   "source": []
  },
  {
   "cell_type": "code",
   "execution_count": null,
   "id": "37b2a2d6",
   "metadata": {},
   "outputs": [],
   "source": []
  },
  {
   "cell_type": "code",
   "execution_count": null,
   "id": "8d1d5b31",
   "metadata": {},
   "outputs": [],
   "source": []
  }
 ],
 "metadata": {
  "kernelspec": {
   "display_name": "Python 3 (ipykernel)",
   "language": "python",
   "name": "python3"
  },
  "language_info": {
   "codemirror_mode": {
    "name": "ipython",
    "version": 3
   },
   "file_extension": ".py",
   "mimetype": "text/x-python",
   "name": "python",
   "nbconvert_exporter": "python",
   "pygments_lexer": "ipython3",
   "version": "3.9.7"
  }
 },
 "nbformat": 4,
 "nbformat_minor": 5
}
