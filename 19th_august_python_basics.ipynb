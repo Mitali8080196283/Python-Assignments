{
 "cells": [
  {
   "cell_type": "markdown",
   "id": "f8a0ae07",
   "metadata": {},
   "source": [
    "# Python Basics Variable"
   ]
  },
  {
   "cell_type": "markdown",
   "id": "5c3109c0",
   "metadata": {},
   "source": [
    "### \n",
    "Declare two variables, `x` and `y`, and assign them integer values.\n",
    "Swap the values of these variables without using any temporary\n",
    "variable.\n"
   ]
  },
  {
   "cell_type": "code",
   "execution_count": 1,
   "id": "f06dc712",
   "metadata": {},
   "outputs": [],
   "source": [
    "x=10\n",
    "y=20"
   ]
  },
  {
   "cell_type": "code",
   "execution_count": 2,
   "id": "395a930d",
   "metadata": {},
   "outputs": [],
   "source": [
    "x=x+y\n",
    "y=x-y\n",
    "x=x-y"
   ]
  },
  {
   "cell_type": "code",
   "execution_count": 3,
   "id": "643eb873",
   "metadata": {},
   "outputs": [
    {
     "name": "stdout",
     "output_type": "stream",
     "text": [
      "After swap a = 20  and b = 10\n"
     ]
    }
   ],
   "source": [
    "print(\"After swap a =\",x,\" and b =\",y)"
   ]
  },
  {
   "cell_type": "markdown",
   "id": "1451fa4b",
   "metadata": {},
   "source": [
    "### \n",
    "Create a program that calculates the area of a rectangle. Take the\n",
    "length and width as inputs from the user and store them in variables.\n",
    "Calculate and display the area."
   ]
  },
  {
   "cell_type": "code",
   "execution_count": 4,
   "id": "f3aec9db",
   "metadata": {},
   "outputs": [
    {
     "name": "stdout",
     "output_type": "stream",
     "text": [
      "Enter length:  5\n",
      "Enter width:  8\n"
     ]
    }
   ],
   "source": [
    "l=int(input(\"Enter length:  \"))\n",
    "w=int(input(\"Enter width:  \"))"
   ]
  },
  {
   "cell_type": "code",
   "execution_count": 5,
   "id": "e4858e45",
   "metadata": {},
   "outputs": [],
   "source": [
    "area=l*w"
   ]
  },
  {
   "cell_type": "code",
   "execution_count": 6,
   "id": "551ff64b",
   "metadata": {},
   "outputs": [
    {
     "name": "stdout",
     "output_type": "stream",
     "text": [
      "area of rectangle : 40\n"
     ]
    }
   ],
   "source": [
    "print(\"area of rectangle :\",area)"
   ]
  },
  {
   "cell_type": "markdown",
   "id": "01fac0d0",
   "metadata": {},
   "source": [
    "### \n",
    "Write a Python program that converts temperature from Celsius to\n",
    "Fahrenheit. Take the temperature in Celsius as input, store it in a\n",
    "variable, convert it to Fahrenheit, and display the result."
   ]
  },
  {
   "cell_type": "code",
   "execution_count": 7,
   "id": "3ec56326",
   "metadata": {},
   "outputs": [
    {
     "name": "stdout",
     "output_type": "stream",
     "text": [
      "94\n",
      "temprature in fahrenheit : 201.20000000000002\n"
     ]
    }
   ],
   "source": [
    "temp1=int(input())\n",
    "temp2=(temp1*(9/5))+32\n",
    "print(\"temprature in fahrenheit :\",temp2)"
   ]
  },
  {
   "cell_type": "markdown",
   "id": "8a271496",
   "metadata": {},
   "source": [
    "# String Based Questions\n"
   ]
  },
  {
   "cell_type": "markdown",
   "id": "0c353d44",
   "metadata": {},
   "source": [
    "### \n",
    "Write a Python program that takes a string as input and prints the\n",
    "length of the string.\n"
   ]
  },
  {
   "cell_type": "code",
   "execution_count": 8,
   "id": "fae3bcae",
   "metadata": {},
   "outputs": [
    {
     "name": "stdout",
     "output_type": "stream",
     "text": [
      "Enter string : pwskills\n",
      "8\n"
     ]
    }
   ],
   "source": [
    "s=input(\"Enter string : \")\n",
    "print(len(s))"
   ]
  },
  {
   "cell_type": "markdown",
   "id": "1c984e18",
   "metadata": {},
   "source": [
    "### \n",
    " Create a program that takes a sentence from the user and counts the\n",
    "number of vowels (a, e, i, o, u) in the string.\n"
   ]
  },
  {
   "cell_type": "code",
   "execution_count": 21,
   "id": "6c1965c3",
   "metadata": {},
   "outputs": [
    {
     "name": "stdout",
     "output_type": "stream",
     "text": [
      "what is your favourite color\n",
      "count of vowels :  11\n"
     ]
    }
   ],
   "source": [
    "s=input()\n",
    "count=0\n",
    "for i in s:\n",
    "    if i=='a' or i=='e' or i=='i' or i=='o' or i=='u':\n",
    "        count=count+1\n",
    "print(\"count of vowels : \",count)"
   ]
  },
  {
   "cell_type": "markdown",
   "id": "eb2b8176",
   "metadata": {},
   "source": [
    "###\n",
    "Given a string, reverse the order of characters using string slicing and\n",
    "print the reversed string."
   ]
  },
  {
   "cell_type": "code",
   "execution_count": 11,
   "id": "31e61a45",
   "metadata": {},
   "outputs": [
    {
     "name": "stdout",
     "output_type": "stream",
     "text": [
      "anu\n"
     ]
    }
   ],
   "source": [
    "s=input()"
   ]
  },
  {
   "cell_type": "code",
   "execution_count": 12,
   "id": "6f663926",
   "metadata": {},
   "outputs": [],
   "source": [
    "reverse_string=s[::-1]"
   ]
  },
  {
   "cell_type": "code",
   "execution_count": 13,
   "id": "6a1572f3",
   "metadata": {},
   "outputs": [
    {
     "name": "stdout",
     "output_type": "stream",
     "text": [
      "reverse string is :  una\n"
     ]
    }
   ],
   "source": [
    "print(\"reverse string is : \",reverse_string)"
   ]
  },
  {
   "cell_type": "markdown",
   "id": "98d4808d",
   "metadata": {},
   "source": [
    "###\n",
    "Write a program that takes a string as input and checks if it is a\n",
    "palindrome (reads the same forwards and backwards).\n"
   ]
  },
  {
   "cell_type": "code",
   "execution_count": 15,
   "id": "60f061bb",
   "metadata": {},
   "outputs": [
    {
     "name": "stdout",
     "output_type": "stream",
     "text": [
      "madam\n",
      "madam is palindrome\n"
     ]
    }
   ],
   "source": [
    "string=input()\n",
    "rev=string[::-1]\n",
    "if string==rev:\n",
    "    print(string,\"is palindrome\")\n",
    "else:\n",
    "    print(string,\"is not palindrome\")    "
   ]
  },
  {
   "cell_type": "markdown",
   "id": "1b242d76",
   "metadata": {},
   "source": [
    "###\n",
    "Create a program that takes a string as input and removes all the\n",
    "spaces from it. Print the modified string without spaces.\n"
   ]
  },
  {
   "cell_type": "code",
   "execution_count": 19,
   "id": "a5d1a485",
   "metadata": {},
   "outputs": [
    {
     "name": "stdout",
     "output_type": "stream",
     "text": [
      "               pwskills                     \n"
     ]
    },
    {
     "data": {
      "text/plain": [
       "'pwskills'"
      ]
     },
     "execution_count": 19,
     "metadata": {},
     "output_type": "execute_result"
    }
   ],
   "source": [
    "string=input()\n",
    "string2=string.strip()\n",
    "string2"
   ]
  },
  {
   "cell_type": "code",
   "execution_count": null,
   "id": "5ea32b34",
   "metadata": {},
   "outputs": [],
   "source": []
  },
  {
   "cell_type": "code",
   "execution_count": null,
   "id": "79010b65",
   "metadata": {},
   "outputs": [],
   "source": []
  }
 ],
 "metadata": {
  "kernelspec": {
   "display_name": "Python 3 (ipykernel)",
   "language": "python",
   "name": "python3"
  },
  "language_info": {
   "codemirror_mode": {
    "name": "ipython",
    "version": 3
   },
   "file_extension": ".py",
   "mimetype": "text/x-python",
   "name": "python",
   "nbconvert_exporter": "python",
   "pygments_lexer": "ipython3",
   "version": "3.9.7"
  }
 },
 "nbformat": 4,
 "nbformat_minor": 5
}
