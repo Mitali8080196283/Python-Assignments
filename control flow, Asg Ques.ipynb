{
 "cells": [
  {
   "cell_type": "code",
   "execution_count": 1,
   "id": "18b95a9e",
   "metadata": {},
   "outputs": [
    {
     "name": "stdout",
     "output_type": "stream",
     "text": [
      "2\n",
      "number is positive\n"
     ]
    }
   ],
   "source": [
    "#  Write a Python program to check if a given number is positive or negative.\n",
    "n=int(input())\n",
    "if n>0:\n",
    "    print(\"number is positive\")\n",
    "else:\n",
    "    print(\"number is negative\")"
   ]
  },
  {
   "cell_type": "code",
   "execution_count": 2,
   "id": "7a401218",
   "metadata": {},
   "outputs": [
    {
     "name": "stdout",
     "output_type": "stream",
     "text": [
      "28\n",
      "you are eligible for vote\n"
     ]
    }
   ],
   "source": [
    "# Create a program that determines if a person is eligible to vote based on their age.\n",
    "age=int(input())\n",
    "if age>=18:\n",
    "    print(\"you are eligible for vote\")\n",
    "else:\n",
    "    print(\"you are not eligible for vote\")"
   ]
  },
  {
   "cell_type": "code",
   "execution_count": 4,
   "id": "c0bc7b5b",
   "metadata": {},
   "outputs": [
    {
     "name": "stdout",
     "output_type": "stream",
     "text": [
      "10 20\n",
      "b is greater\n"
     ]
    }
   ],
   "source": [
    "# Develop a program to find the maximum of two numbers using if-else statements.\n",
    "a,b=input().split()\n",
    "if int(a)>int(b):\n",
    "    print(\"a is greater\")\n",
    "else:\n",
    "    print(\"b is greater\")"
   ]
  },
  {
   "cell_type": "code",
   "execution_count": 5,
   "id": "e3f2129d",
   "metadata": {},
   "outputs": [
    {
     "name": "stdout",
     "output_type": "stream",
     "text": [
      "2000\n",
      "year is leap year\n"
     ]
    }
   ],
   "source": [
    "#  Write a Python script to classify a given year as a leap year or not.\n",
    "year=int(input())\n",
    "if year%4==0 and year%100!=0 or year%400==0:\n",
    "    print(\"year is leap year\")\n",
    "else:\n",
    "    print(\"year is not leap year\")"
   ]
  },
  {
   "cell_type": "code",
   "execution_count": 7,
   "id": "433de0e8",
   "metadata": {},
   "outputs": [
    {
     "name": "stdout",
     "output_type": "stream",
     "text": [
      "a\n",
      "a is vowel\n"
     ]
    }
   ],
   "source": [
    "# Create a program that checks whether a character is a vowel or a consonant.\n",
    "s=input()\n",
    "if s==\"a\" or s=='e' or s=='i' or s=='o' or s=='u' or s=='A' or s=='E' or s=='I' or s=='O' or s=='U':\n",
    "    print(f\"{s} is vowel\")\n",
    "else:\n",
    "    print(f\"{s} is consonant\")"
   ]
  },
  {
   "cell_type": "code",
   "execution_count": 8,
   "id": "17b11dcc",
   "metadata": {},
   "outputs": [
    {
     "name": "stdout",
     "output_type": "stream",
     "text": [
      "98\n",
      "n is even\n"
     ]
    }
   ],
   "source": [
    "#  Implement a program to determine whether a given number is even or odd.\n",
    "n=int(input())\n",
    "if n%2==0:\n",
    "    print(\"n is even\")\n",
    "else:\n",
    "    print(\"n is odd\")"
   ]
  },
  {
   "cell_type": "code",
   "execution_count": 19,
   "id": "96dbc6ad",
   "metadata": {},
   "outputs": [
    {
     "name": "stdout",
     "output_type": "stream",
     "text": [
      "-2\n",
      "2\n"
     ]
    }
   ],
   "source": [
    "#  Write a Python function to calculate the absolute value of a number without using the `abs()` function.\n",
    "n=int(input())\n",
    "if n<0:\n",
    "    print(-n)\n",
    "else:\n",
    "    print(n)"
   ]
  },
  {
   "cell_type": "code",
   "execution_count": 20,
   "id": "96e7ef54",
   "metadata": {},
   "outputs": [
    {
     "name": "stdout",
     "output_type": "stream",
     "text": [
      "10 20 30\n",
      "c is greater\n"
     ]
    }
   ],
   "source": [
    "# Develop a program that determines the largest of three given numbers using if-else statements.\n",
    "a,b,c=input().split()\n",
    "if a>b and a>c:\n",
    "    print(\"a is greater\")\n",
    "elif b>c and b>a:\n",
    "    print(\"b is greater\")\n",
    "else:\n",
    "    print(\"c is greater\")"
   ]
  },
  {
   "cell_type": "code",
   "execution_count": 22,
   "id": "54ddda75",
   "metadata": {},
   "outputs": [
    {
     "name": "stdout",
     "output_type": "stream",
     "text": [
      "madam\n",
      "s is palindrome\n"
     ]
    }
   ],
   "source": [
    "# Create a program that checks if a given string is a palindrome\n",
    "s=input()\n",
    "s1=s[::-1]\n",
    "if s==s1:\n",
    "    print(\"s is palindrome\")\n",
    "else:\n",
    "    print(\"s is not palindrome\")"
   ]
  },
  {
   "cell_type": "code",
   "execution_count": 27,
   "id": "bd8e343f",
   "metadata": {},
   "outputs": [
    {
     "name": "stdout",
     "output_type": "stream",
     "text": [
      "98\n",
      "grade is A\n"
     ]
    }
   ],
   "source": [
    "# Write a Python program to calculate the grade based on a student's score.\n",
    "score=int(input())\n",
    "if score>=90:\n",
    "    print(\"grade is A\")\n",
    "elif score>=80 and score<90:\n",
    "    print(\"grade is B\")\n",
    "elif score>70 and score<80:\n",
    "    print(\"grade is c\")\n",
    "else:\n",
    "    print(\"grade is d\")"
   ]
  },
  {
   "cell_type": "code",
   "execution_count": 7,
   "id": "9093c4fc",
   "metadata": {},
   "outputs": [
    {
     "name": "stdout",
     "output_type": "stream",
     "text": [
      "10 20 90\n",
      "c is greater\n"
     ]
    }
   ],
   "source": [
    "#  Write a program to find the largest among three numbers using nested if-else statements.\n",
    "a,b,c=input().split()\n",
    "a=int(a)\n",
    "b=int(b)\n",
    "c=int(c)\n",
    "if a>b:\n",
    "    if a>c:\n",
    "        print(\"a is greater\")\n",
    "    else:\n",
    "        print(\"c is greater\")\n",
    "else:\n",
    "    if b>a:\n",
    "        if b>c:\n",
    "            print(\"b is greater\")\n",
    "        else:\n",
    "            print(\"c is greater\")"
   ]
  },
  {
   "cell_type": "code",
   "execution_count": 58,
   "id": "959369fd",
   "metadata": {},
   "outputs": [
    {
     "name": "stdout",
     "output_type": "stream",
     "text": [
      "10\n",
      "10\n",
      "20\n",
      "traingle is isosceles traingle\n"
     ]
    }
   ],
   "source": [
    "#  Implement a program to determine if a triangle is equilateral, isosceles, or scalene.\n",
    "a=int(input())\n",
    "b=int(input())\n",
    "c=int(input())\n",
    "if a==b==c:\n",
    "    print(\"traingle is equilateral traingle\")\n",
    "else:\n",
    "    if a==b and a!=c and b!=c:\n",
    "        print(\"traingle is isosceles traingle\")\n",
    "    else:\n",
    "        print(\"traingle is scalene traingle\")"
   ]
  },
  {
   "cell_type": "code",
   "execution_count": 53,
   "id": "cb0333d0",
   "metadata": {},
   "outputs": [
    {
     "name": "stdout",
     "output_type": "stream",
     "text": [
      "2000\n",
      "year is leap year and century year\n"
     ]
    }
   ],
   "source": [
    "#  Develop a program that checks if a year is a leap year and also if it is a century year.\n",
    "year=int(input())\n",
    "if year%400==0:\n",
    "    print(\"year is leap year and century year\")\n",
    "else:\n",
    "    if year%4==0 and year%100!=0:\n",
    "        print(\"year is not leap year\")"
   ]
  },
  {
   "cell_type": "code",
   "execution_count": 47,
   "id": "48e3f6a4",
   "metadata": {},
   "outputs": [
    {
     "name": "stdout",
     "output_type": "stream",
     "text": [
      "5\n",
      "positive\n"
     ]
    }
   ],
   "source": [
    "#  Write a Python script to determine if a number is positive, negative, or zero.\n",
    "n=int(input())\n",
    "if n!=0:\n",
    "    if n>0:\n",
    "        print(\"positive\")\n",
    "    else:\n",
    "        print(\"negative\")\n",
    "else:\n",
    "    print(\"zero\")"
   ]
  },
  {
   "cell_type": "code",
   "execution_count": 43,
   "id": "a4b21690",
   "metadata": {},
   "outputs": [
    {
     "name": "stdout",
     "output_type": "stream",
     "text": [
      "14\n",
      "you are teenager\n"
     ]
    }
   ],
   "source": [
    "#  Create a program to check if a person is a teenager (between 13 and 19 years old).\n",
    "age=int(input())\n",
    "if age<13:\n",
    "    print(\"you are child\")\n",
    "elif age>13 and age<19:\n",
    "    print(\"you are teenager\")\n",
    "else:\n",
    "    print(\"you are older\")"
   ]
  },
  {
   "cell_type": "code",
   "execution_count": 39,
   "id": "bf5cdea5",
   "metadata": {},
   "outputs": [
    {
     "name": "stdout",
     "output_type": "stream",
     "text": [
      "90\n",
      "60\n",
      "30\n",
      "right angle triangle\n"
     ]
    }
   ],
   "source": [
    "#  Develop a program that determines the type of angle based on its measure (acute, obtuse, or right).\n",
    "A=int(input())\n",
    "B=int(input())\n",
    "C=int(input())\n",
    "if A+B+C != 180:\n",
    "    print(\"Not triangle, please enter new values\")\n",
    "else:\n",
    "    if A < 90 and B < 90 and C < 90:\n",
    "        print(\"Acute Angle\")\n",
    "    elif A == 90 and B <90 or C <90:\n",
    "        print(\"right angle triangle\")\n",
    "    elif A > 90 or B > 90 or C > 90:\n",
    "        print(\"Obtuse angle\")\n",
    "    else:\n",
    "        print(\"Some other scenario we haven't accounted for\")"
   ]
  },
  {
   "cell_type": "code",
   "execution_count": 34,
   "id": "a883694c",
   "metadata": {},
   "outputs": [
    {
     "name": "stdout",
     "output_type": "stream",
     "text": [
      "Quadratic function : (a * x^2) + b*x + c\n",
      "a: 9\n",
      "b: 4\n",
      "c: 3\n",
      "No roots, discriminant < 0.\n"
     ]
    }
   ],
   "source": [
    "#  Write a Python program to calculate the roots of a quadratic equation.\n",
    "from math import sqrt\n",
    "\n",
    "print(\"Quadratic function : (a * x^2) + b*x + c\")\n",
    "a = float(input(\"a: \"))\n",
    "b = float(input(\"b: \"))\n",
    "c = float(input(\"c: \"))\n",
    "\n",
    "r = b**2 - 4*a*c\n",
    "\n",
    "if r > 0:\n",
    "    num_roots = 2\n",
    "    x1 = (((-b) + sqrt(r))/(2*a))     \n",
    "    x2 = (((-b) - sqrt(r))/(2*a))\n",
    "    print(\"There are 2 roots: %f and %f\" % (x1, x2))\n",
    "elif r == 0:\n",
    "    num_roots = 1\n",
    "    x = (-b) / 2*a\n",
    "    print(\"There is one root: \", x)\n",
    "else:\n",
    "    num_roots = 0\n",
    "    print(\"No roots, discriminant < 0.\")"
   ]
  },
  {
   "cell_type": "code",
   "execution_count": 31,
   "id": "8e1941b7",
   "metadata": {},
   "outputs": [
    {
     "name": "stdout",
     "output_type": "stream",
     "text": [
      "5\n",
      "friday\n"
     ]
    }
   ],
   "source": [
    "#  Implement a program to determine the day of the week based on a user-provided number (1 for Monday, 2 for Tuesday, etc.).\n",
    "day=int(input())\n",
    "if day==1:\n",
    "    print(\"monday\")\n",
    "elif day==2:\n",
    "    print(\"tuesday\")\n",
    "elif day==3:\n",
    "    print(\"wednsday\")\n",
    "elif day==4:\n",
    "    print(\"thursday\")\n",
    "elif day==5:\n",
    "    print(\"friday\")\n",
    "elif day==6:\n",
    "    print(\"saturday\")\n",
    "elif day==7:\n",
    "    print(\"sunday\")\n",
    "else:\n",
    "    print(\"not a day\")"
   ]
  },
  {
   "cell_type": "code",
   "execution_count": 28,
   "id": "a480f285",
   "metadata": {},
   "outputs": [
    {
     "name": "stdout",
     "output_type": "stream",
     "text": [
      "2048\n",
      "year is leap year\n"
     ]
    }
   ],
   "source": [
    "#  Create a program that determines if a year is a leap year and also if it is evenly divisible by 400.\n",
    "year=int(input())\n",
    "if year%4==0:\n",
    "    print(\"year is leap year\")\n",
    "else:\n",
    "    if year%4==0:\n",
    "        if year%100!=0:\n",
    "            print(\"year is leap year\")\n",
    "        else:\n",
    "            print(\"year is not leap year\")\n",
    "    else:\n",
    "        print(\"year is not leap year\")"
   ]
  },
  {
   "cell_type": "code",
   "execution_count": 61,
   "id": "d969bdd3",
   "metadata": {},
   "outputs": [
    {
     "name": "stdout",
     "output_type": "stream",
     "text": [
      "4\n",
      "4 is not a prime number\n"
     ]
    }
   ],
   "source": [
    "#  Develop a program that checks if a given number is prime or not using nested if-else statements.\n",
    "n=int(input())\n",
    "if n> 1:\n",
    "    for i in range(2, int(n/2)+1):\n",
    "        if (n % i) == 0:\n",
    "            print(n, \"is not a prime number\")\n",
    "            break\n",
    "    else:\n",
    "        print(n, \"is a prime number\")\n",
    "else:\n",
    "    print(n, \"is not a prime number\")"
   ]
  },
  {
   "cell_type": "code",
   "execution_count": null,
   "id": "b167b77b",
   "metadata": {},
   "outputs": [],
   "source": [
    "#  Write a Python program to assign grades based on different ranges of scores using elif statements.\n",
    "score=int(input())\n",
    "if score>=90:\n",
    "    print(\"grade is A\")\n",
    "elif score>=80 and score<90:\n",
    "    print(\"grade is B\")\n",
    "elif score>70 and score<80:\n",
    "    print(\"grade is c\")\n",
    "else:\n",
    "    print(\"grade is d\")"
   ]
  },
  {
   "cell_type": "code",
   "execution_count": 70,
   "id": "0d4cd4eb",
   "metadata": {},
   "outputs": [
    {
     "name": "stdout",
     "output_type": "stream",
     "text": [
      "120\n",
      "30\n",
      "30\n",
      "Obtuse angle\n"
     ]
    }
   ],
   "source": [
    "#  Implement a program to determine the type of a triangle based on its angles.\n",
    "A=int(input())\n",
    "B=int(input())\n",
    "C=int(input())\n",
    "if A+B+C==180:\n",
    "    if A < 90 and B < 90 and C < 90:\n",
    "        print(\"Acute Angle\")\n",
    "    elif A == 90 and B <90 and C <90:\n",
    "        print(\"right angle triangle\")\n",
    "    elif A > 90 or B > 90 or C > 90:\n",
    "        print(\"Obtuse angle\")\n",
    "else:\n",
    "    print(\"it is not traingle\")"
   ]
  },
  {
   "cell_type": "code",
   "execution_count": 123,
   "id": "b04cbc91",
   "metadata": {},
   "outputs": [
    {
     "name": "stdout",
     "output_type": "stream",
     "text": [
      "48\n",
      "5\n",
      "Underweight\n"
     ]
    }
   ],
   "source": [
    "#  Develop a program to categorize a given person's BMI into underweight, normal, overweight, or obese using elif statements.\n",
    "\n",
    "weight = float(input())\n",
    "height = float(input())\n",
    "BMI = weight / (height ** 2)\n",
    "if BMI < 18.5:\n",
    "    print('Underweight')\n",
    "elif 18.5 <= BMI < 25:\n",
    "    print(\"Normal\")\n",
    "elif 25 <= BMI < 30:\n",
    "    print(\"Overweight\")\n",
    "elif BMI > 30:\n",
    "    print('Obesity')"
   ]
  },
  {
   "cell_type": "code",
   "execution_count": 75,
   "id": "3a2f1132",
   "metadata": {},
   "outputs": [
    {
     "name": "stdout",
     "output_type": "stream",
     "text": [
      "98\n",
      "positive\n"
     ]
    }
   ],
   "source": [
    "#  Create a program that determines whether a given number is positive, negative, or zero using elif statements.\n",
    "n=int(input())\n",
    "if n>0:\n",
    "    print(\"positive\")\n",
    "elif n<0:\n",
    "    print(\"negative\")\n",
    "else:\n",
    "    print(\"zero\")"
   ]
  },
  {
   "cell_type": "code",
   "execution_count": 89,
   "id": "dd851699",
   "metadata": {},
   "outputs": [
    {
     "name": "stdout",
     "output_type": "stream",
     "text": [
      "b\n",
      "ch is lowercase\n"
     ]
    }
   ],
   "source": [
    "#  Write a Python script to determine the type of a character (uppercase, lowercase, or special) using elif statements.\n",
    "ch=input()\n",
    "if 65<ord(ch)<90 or 97<ord(ch)<122:\n",
    "    if ch==ch.upper():\n",
    "        print(\"ch is uppercase\")\n",
    "    elif ch==ch.lower():\n",
    "        print(\"ch is lowercase\")\n",
    "else:\n",
    "    print(\"ch is special case character\")"
   ]
  },
  {
   "cell_type": "code",
   "execution_count": 90,
   "id": "ae39bb53",
   "metadata": {},
   "outputs": [
    {
     "name": "stdout",
     "output_type": "stream",
     "text": [
      "Enter Sale Amount: 3000\n",
      "Discount :  150.0\n",
      "Net Pay  :  2850.0\n"
     ]
    }
   ],
   "source": [
    "#  Implement a program to calculate the discounted price based on different purchase amounts using elif statements.\n",
    "amt = int(input(\"Enter Sale Amount: \"))\n",
    "\n",
    "# checking conditions and calculating discount\n",
    "if(amt>0):\n",
    "    if amt<=5000:\n",
    "       disc = amt*0.05\n",
    "    elif amt<=15000:\n",
    "        disc=amt*0.12\n",
    "    elif amt<=25000:\n",
    "        disc=0.2 * amt\n",
    "    else:\n",
    "         disc=0.3 * amt\n",
    "\n",
    "    print(\"Discount : \",disc)\n",
    "    print(\"Net Pay  : \",amt-disc)\n",
    "else:\n",
    "    print(\"Invalid Amount\")"
   ]
  },
  {
   "cell_type": "code",
   "execution_count": 95,
   "id": "81bf4874",
   "metadata": {},
   "outputs": [
    {
     "name": "stdout",
     "output_type": "stream",
     "text": [
      "100\n",
      "1000\n"
     ]
    }
   ],
   "source": [
    "#  Develop a program to calculate the electricity bill based on different consumption slabs using elif statements.\n",
    "unit=int(input())\n",
    "if unit<=100:\n",
    "    total_bill=unit*10\n",
    "    print(total_bill)\n",
    "elif unit<=200:\n",
    "    total_bill=(100*10)+(unit-100)*15\n",
    "    print(total_bill)\n",
    "elif unit<=300:\n",
    "    total_bill=(100 * 10) +(100 * 15) +(unit - 200) * 20\n",
    "    print(total_bill)\n",
    "elif unit>300:\n",
    "    total_bill=(100 * 10) +(100 * 15) +(100 * 20) +(unit - 300) * 25\n",
    "    print(total_bill)\n",
    "else:\n",
    "    print(\"enter valid units\")"
   ]
  },
  {
   "cell_type": "code",
   "execution_count": 99,
   "id": "290f6d70",
   "metadata": {},
   "outputs": [
    {
     "name": "stdout",
     "output_type": "stream",
     "text": [
      "120 60 120 60\n",
      "1 1 1 1\n",
      "it is rhombus\n"
     ]
    }
   ],
   "source": [
    "#  Create a program to determine the type of quadrilateral based on its angles and sides using elif statements.\n",
    "a,b,c,d=input().split()\n",
    "ab,bc,cd,ad=input().split()\n",
    "if int(a)+int(b)+int(c)+int(d)==360:\n",
    "    if int(a)==int(c) and int(b)==int(d) and ab==bc==cd==ad:\n",
    "        print(\"it is rhombus\")\n",
    "    elif int(a)==int(b)==int(c)==int(d) and ab==bc==cd==ad:\n",
    "        print(\"it is square\")\n",
    "    elif int(a)==int(b)==int(c)==int(d) and ab==cd and bc==ad:\n",
    "        print(\"it is rectangle\")\n",
    "else:\n",
    "    print(\"it is not quadrilateral\")"
   ]
  },
  {
   "cell_type": "code",
   "execution_count": 105,
   "id": "569e8845",
   "metadata": {},
   "outputs": [
    {
     "name": "stdout",
     "output_type": "stream",
     "text": [
      "sep\n",
      "season is mansoon\n"
     ]
    }
   ],
   "source": [
    "#  Write a Python script to determine the season based on a user-provided month using elif statements.\n",
    "month=input()\n",
    "if month in ('mar','april','may','june'):\n",
    "    print(\"season is summer\")\n",
    "elif month in ('jul','aug','sep','oct'):\n",
    "    print(\"season is mansoon\")\n",
    "elif month in ('nov','dec','jan','feb'):\n",
    "    print(\"season is winter\")\n",
    "else:\n",
    "    print(\"invalid input\")"
   ]
  },
  {
   "cell_type": "code",
   "execution_count": 110,
   "id": "0b326279",
   "metadata": {},
   "outputs": [
    {
     "name": "stdout",
     "output_type": "stream",
     "text": [
      "2000\n",
      "2\n",
      "Number of days is 29\n"
     ]
    }
   ],
   "source": [
    "#  Implement a program to determine the type of a year (leap or common) and month (30 or 31 days) using elif statements.\n",
    "year=int(input())\n",
    "month=int(input())\n",
    "if((month==2) and ((year%4==0)  or ((year%100==0) and (year%400==0)))) :\n",
    "    print(\"Number of days is 29\")\n",
    "\n",
    "elif(month==2) :\n",
    "    print(\"Number of days is 28\")\n",
    "\n",
    "elif(month==1 or month==3 or month==5 or month==7 or month==8 or month==10 or month==12) :\n",
    "    print(\"Number of days is 31\")\n",
    "\n",
    "else :\n",
    "    print(\"Number of days is 30\")"
   ]
  },
  {
   "cell_type": "markdown",
   "id": "80a827b0",
   "metadata": {},
   "source": [
    "### Basic Level: "
   ]
  },
  {
   "cell_type": "code",
   "execution_count": 1,
   "id": "2b74de5b",
   "metadata": {},
   "outputs": [
    {
     "name": "stdout",
     "output_type": "stream",
     "text": [
      "2\n",
      "number is positive\n"
     ]
    }
   ],
   "source": [
    "#  Write a Python program that checks if a given number is positive, negative, or zero\n",
    "n=int(input())\n",
    "if n>0:\n",
    "    print(\"number is positive\")\n",
    "else:\n",
    "    print(\"number is negative\")"
   ]
  },
  {
   "cell_type": "code",
   "execution_count": 2,
   "id": "76f42bcb",
   "metadata": {},
   "outputs": [
    {
     "name": "stdout",
     "output_type": "stream",
     "text": [
      "16\n",
      "you are not eligible for vote\n"
     ]
    }
   ],
   "source": [
    "#  Create a program to determine if a person is eligible to vote based on their age.\n",
    "age=int(input())\n",
    "if age>=18:\n",
    "    print(\"you are eligible for vote\")\n",
    "else:\n",
    "    print(\"you are not eligible for vote\")"
   ]
  },
  {
   "cell_type": "code",
   "execution_count": 3,
   "id": "975bff5c",
   "metadata": {},
   "outputs": [
    {
     "name": "stdout",
     "output_type": "stream",
     "text": [
      "10 20\n",
      "b is greater\n"
     ]
    }
   ],
   "source": [
    "#  Write a program to find the maximum of two given numbers using conditional statements\n",
    "a,b=input().split()\n",
    "if int(a)>int(b):\n",
    "    print(\"a is greater\")\n",
    "else:\n",
    "    print(\"b is greater\")"
   ]
  },
  {
   "cell_type": "code",
   "execution_count": 6,
   "id": "717b254c",
   "metadata": {},
   "outputs": [
    {
     "name": "stdout",
     "output_type": "stream",
     "text": [
      "80\n",
      "grade is B\n"
     ]
    }
   ],
   "source": [
    "#  Develop a program that calculates the grade of a student based on their exam score.\n",
    "score=int(input())\n",
    "if score>=90:\n",
    "    print(\"grade is A\")\n",
    "elif score>=80 and score<90:\n",
    "    print(\"grade is B\")\n",
    "elif score>70 and score<80:\n",
    "    print(\"grade is c\")\n",
    "else:\n",
    "    print(\"grade is d\")"
   ]
  },
  {
   "cell_type": "code",
   "execution_count": 4,
   "id": "e9d6ebbc",
   "metadata": {},
   "outputs": [
    {
     "name": "stdout",
     "output_type": "stream",
     "text": [
      "2000\n",
      "year is leap year\n"
     ]
    }
   ],
   "source": [
    "#  Create a program that checks if a year is a leap year or not.\n",
    "year=int(input())\n",
    "if year%4==0 and year%100!=0 or year%400==0:\n",
    "    print(\"year is leap year\")\n",
    "else:\n",
    "    print(\"year is not leap year\")"
   ]
  },
  {
   "cell_type": "code",
   "execution_count": 7,
   "id": "f18a3fcb",
   "metadata": {},
   "outputs": [
    {
     "name": "stdout",
     "output_type": "stream",
     "text": [
      "10\n",
      "10\n",
      "10\n",
      "traingle is equilateral traingle\n"
     ]
    }
   ],
   "source": [
    "#  Write a program to classify a triangle based on its sides' lengths.\n",
    "a=int(input())\n",
    "b=int(input())\n",
    "c=int(input())\n",
    "if a==b==c:\n",
    "    print(\"traingle is equilateral traingle\")\n",
    "else:\n",
    "    if a==b and a!=c and b!=c:\n",
    "        print(\"traingle is isosceles traingle\")\n",
    "    else:\n",
    "        print(\"traingle is scalene traingle\")"
   ]
  },
  {
   "cell_type": "code",
   "execution_count": 8,
   "id": "bfbf9e1f",
   "metadata": {},
   "outputs": [
    {
     "name": "stdout",
     "output_type": "stream",
     "text": [
      "10 20 30\n",
      "c is greater\n"
     ]
    }
   ],
   "source": [
    "#  Build a program that determines the largest of three given numbers.\n",
    "a,b,c=input().split()\n",
    "if a>b and a>c:\n",
    "    print(\"a is greater\")\n",
    "elif b>c and b>a:\n",
    "    print(\"b is greater\")\n",
    "else:\n",
    "    print(\"c is greater\")"
   ]
  },
  {
   "cell_type": "code",
   "execution_count": 9,
   "id": "90f65d52",
   "metadata": {},
   "outputs": [
    {
     "name": "stdout",
     "output_type": "stream",
     "text": [
      "b\n",
      "b is consonant\n"
     ]
    }
   ],
   "source": [
    "#  Develop a program that checks whether a character is a vowel or a consonant.\n",
    "s=input()\n",
    "if s==\"a\" or s=='e' or s=='i' or s=='o' or s=='u' or s=='A' or s=='E' or s=='I' or s=='O' or s=='U':\n",
    "    print(f\"{s} is vowel\")\n",
    "else:\n",
    "    print(f\"{s} is consonant\")"
   ]
  },
  {
   "cell_type": "code",
   "execution_count": 10,
   "id": "a02b1d49",
   "metadata": {},
   "outputs": [
    {
     "name": "stdout",
     "output_type": "stream",
     "text": [
      "2\n",
      "n is even\n"
     ]
    }
   ],
   "source": [
    "#  Write a program that checks if a given number is even or odd\n",
    "n=int(input())\n",
    "if n%2==0:\n",
    "    print(\"n is even\")\n",
    "else:\n",
    "    print(\"n is odd\")"
   ]
  },
  {
   "cell_type": "code",
   "execution_count": 11,
   "id": "2b7230a5",
   "metadata": {},
   "outputs": [
    {
     "name": "stdout",
     "output_type": "stream",
     "text": [
      "Quadratic function : (a * x^2) + b*x + c\n",
      "a: 4\n",
      "b: 5\n",
      "c: 6\n",
      "No roots, discriminant < 0.\n"
     ]
    }
   ],
   "source": [
    "#  Write a program that calculates the roots of a quadratic equation .\n",
    "from math import sqrt\n",
    "\n",
    "print(\"Quadratic function : (a * x^2) + b*x + c\")\n",
    "a = float(input(\"a: \"))\n",
    "b = float(input(\"b: \"))\n",
    "c = float(input(\"c: \"))\n",
    "\n",
    "r = b**2 - 4*a*c\n",
    "\n",
    "if r > 0:\n",
    "    num_roots = 2\n",
    "    x1 = (((-b) + sqrt(r))/(2*a))     \n",
    "    x2 = (((-b) - sqrt(r))/(2*a))\n",
    "    print(\"There are 2 roots: %f and %f\" % (x1, x2))\n",
    "elif r == 0:\n",
    "    num_roots = 1\n",
    "    x = (-b) / 2*a\n",
    "    print(\"There is one root: \", x)\n",
    "else:\n",
    "    num_roots = 0\n",
    "    print(\"No roots, discriminant < 0.\")"
   ]
  },
  {
   "cell_type": "code",
   "execution_count": null,
   "id": "45450816",
   "metadata": {},
   "outputs": [],
   "source": [
    "#  Create a program that determines the day of the week based on the day number (1-7).\n",
    "day=int(input())\n",
    "if day==1:\n",
    "    print(\"monday\")\n",
    "elif day==2:\n",
    "    print(\"tuesday\")\n",
    "elif day==3:\n",
    "    print(\"wednsday\")\n",
    "elif day==4:\n",
    "    print(\"thursday\")\n",
    "elif day==5:\n",
    "    print(\"friday\")\n",
    "elif day==6:\n",
    "    print(\"saturday\")\n",
    "elif day==7:\n",
    "    print(\"sunday\")\n",
    "else:\n",
    "    print(\"not a day\")"
   ]
  },
  {
   "cell_type": "code",
   "execution_count": 13,
   "id": "387d6d22",
   "metadata": {},
   "outputs": [
    {
     "name": "stdout",
     "output_type": "stream",
     "text": [
      "5\n",
      "120\n"
     ]
    }
   ],
   "source": [
    "#  Develop a program that calculates the factorial of a given number using recursion.\n",
    "def fact(n):\n",
    "    if n<0:\n",
    "        return 1\n",
    "    elif n==1:\n",
    "        return 1\n",
    "    else:\n",
    "        return n*fact(n-1)\n",
    "n=int(input())\n",
    "print(fact(n))"
   ]
  },
  {
   "cell_type": "code",
   "execution_count": 14,
   "id": "a7a258f4",
   "metadata": {},
   "outputs": [
    {
     "name": "stdout",
     "output_type": "stream",
     "text": [
      "10 20 30\n",
      "c is greater\n"
     ]
    }
   ],
   "source": [
    "#  Write a program to find the largest among three numbers without using the `max()` function.\n",
    "a,b,c=input().split()\n",
    "if a>b and a>c:\n",
    "    print(\"a is greater\")\n",
    "elif b>c and b>a:\n",
    "    print(\"b is greater\")\n",
    "else:\n",
    "    print(\"c is greater\")"
   ]
  },
  {
   "cell_type": "code",
   "execution_count": 15,
   "id": "00adf00a",
   "metadata": {},
   "outputs": [
    {
     "name": "stdout",
     "output_type": "stream",
     "text": [
      "madam\n",
      "string is palindrome\n"
     ]
    }
   ],
   "source": [
    "#  Build a program that checks if a given string is a palindrome or not.\n",
    "s=input()\n",
    "if s==s[::-1]:\n",
    "    print(\"string is palindrome\")\n",
    "else:\n",
    "    print(\"string is not palindrome\")"
   ]
  },
  {
   "cell_type": "code",
   "execution_count": 8,
   "id": "98c14c0f",
   "metadata": {},
   "outputs": [
    {
     "name": "stdout",
     "output_type": "stream",
     "text": [
      "average of list of numbers is 69.08333333333333\n"
     ]
    }
   ],
   "source": [
    "#  Write a program that calculates the average of a list of numbers, excluding the smallest and largest values.\n",
    "l1=[1,2,3,4,5,6,90,56,89,98,500,690]\n",
    "a=min(l1)\n",
    "b=max(l1)\n",
    "sum=0\n",
    "for i in l1:\n",
    "    sum=sum+i\n",
    "sum=sum-a\n",
    "sum=sum-b\n",
    "print(f\"average of list of numbers is {sum/len(l1)-2}\")"
   ]
  },
  {
   "cell_type": "code",
   "execution_count": 10,
   "id": "8cd19103",
   "metadata": {},
   "outputs": [
    {
     "name": "stdout",
     "output_type": "stream",
     "text": [
      "Enter temperature in celsius: 98\n",
      "98.0 degree Celsius is equal to 208.4 degree Fahrenheit.\n"
     ]
    }
   ],
   "source": [
    "#  Develop a program that converts a given temperature from Celsius to Fahrenheit\n",
    "celsius = float(input(\"Enter temperature in celsius: \"))\n",
    "fahrenheit = (celsius * 1.8) + 32\n",
    "print(str(celsius )+ \" degree Celsius is equal to \" + str(fahrenheit )+ \" degree Fahrenheit.\")"
   ]
  },
  {
   "cell_type": "code",
   "execution_count": 11,
   "id": "03fcbbe3",
   "metadata": {},
   "outputs": [
    {
     "name": "stdout",
     "output_type": "stream",
     "text": [
      "10\n",
      "20\n",
      "addition\n",
      "30\n"
     ]
    }
   ],
   "source": [
    "#  Create a program that simulates a basic calculator for addition, subtraction, multiplication, and division.\n",
    "a=int(input())\n",
    "b=int(input())\n",
    "cal=input()\n",
    "if cal=='addition':\n",
    "    print(a+b)\n",
    "elif cal=='substraction':\n",
    "    print(a-b)\n",
    "elif cal=='multiplication':\n",
    "    print(a*b)\n",
    "elif cal=='division':\n",
    "    print(a/b)\n",
    "else:\n",
    "    print(\"Invalid input\")"
   ]
  },
  {
   "cell_type": "code",
   "execution_count": 14,
   "id": "1e05b03f",
   "metadata": {},
   "outputs": [
    {
     "name": "stdout",
     "output_type": "stream",
     "text": [
      "980000\n",
      "you owe 72000.0 Rupees in tax!\n"
     ]
    }
   ],
   "source": [
    "#  Create a program that calculates the income tax based on the user's income and tax brackets\n",
    "income=int(input())\n",
    "if income <= 250000:  #2 Lakh 50 thousand\n",
    "    tax = 0\n",
    "\n",
    "elif income <= 500000: #5 Lakh\n",
    "    tax = (income - 250000) * 0.05\n",
    "\n",
    "elif income <= 750000: #7 lakh 50 thousand\n",
    "    tax = (income - 500000) * 0.10 + 12500 \n",
    "\n",
    "elif income <= 1000000: #10 Lakh\n",
    "    tax = (income - 750000) * 0.15 + 37500 \n",
    "\n",
    "elif income <= 1250000: #12 lakh 50 thousand\n",
    "    tax = (income - 1000000) * 0.20 + 75000 \n",
    "\n",
    "elif income <= 1500000: #15 lakh\n",
    "    tax = (income - 1250000) * 0.25 + 125000 \n",
    "\n",
    "else:\n",
    "    tax = (income - 1500000) * 0.30 + 187500\n",
    "\n",
    "print(\"you owe\", tax, \"Rupees in tax!\")"
   ]
  },
  {
   "cell_type": "code",
   "execution_count": 20,
   "id": "5cf2976f",
   "metadata": {},
   "outputs": [
    {
     "name": "stdout",
     "output_type": "stream",
     "text": [
      "Enter a choice (rock, paper, scissors): paper\n",
      "\n",
      "You chose paper, computer chose rock.\n",
      "\n",
      "Paper covers rock! You win!\n"
     ]
    }
   ],
   "source": [
    "#  Write a program that simulates a rock-paper-scissors game against the computer\n",
    "import random\n",
    "user_action = input(\"Enter a choice (rock, paper, scissors): \")\n",
    "possible_actions = [\"rock\", \"paper\", \"scissors\"]\n",
    "computer_action = random.choice(possible_actions)\n",
    "print(f\"\\nYou chose {user_action}, computer chose {computer_action}.\\n\")\n",
    "if user_action == computer_action:\n",
    "    print(f\"Both players selected {user_action}. It's a tie!\")\n",
    "elif user_action == \"rock\":\n",
    "    if computer_action == \"scissors\":\n",
    "        print(\"Rock smashes scissors! You win!\")\n",
    "    else:\n",
    "        print(\"Paper covers rock! You lose.\")\n",
    "elif user_action == \"paper\":\n",
    "    if computer_action == \"rock\":\n",
    "        print(\"Paper covers rock! You win!\")\n",
    "    else:\n",
    "        print(\"Scissors cuts paper! You lose.\")\n",
    "elif user_action == \"scissors\":\n",
    "    if computer_action == \"paper\":\n",
    "        print(\"Scissors cuts paper! You win!\")\n",
    "    else:\n",
    "        print(\"Rock smashes scissors! You lose.\")"
   ]
  },
  {
   "cell_type": "code",
   "execution_count": 22,
   "id": "ef480f46",
   "metadata": {},
   "outputs": [
    {
     "name": "stdout",
     "output_type": "stream",
     "text": [
      "hello, Welcome to Password generator!\n",
      "\n",
      "Enter the length of password: 5\n",
      "HZFa\\\n"
     ]
    }
   ],
   "source": [
    "#  Develop a program that generates a random password based on user preferences (length, complexity).\n",
    "import random\n",
    "import string\n",
    "print('hello, Welcome to Password generator!')\n",
    "length = int(input('\\nEnter the length of password: '))\n",
    "lower = string.ascii_lowercase\n",
    "upper = string.ascii_uppercase\n",
    "num = string.digits\n",
    "symbols = string.punctuation\n",
    "all = lower + upper + num + symbols\n",
    "temp = random.sample(all,length)\n",
    "password = \"\".join(temp)\n",
    "print(password)"
   ]
  },
  {
   "cell_type": "code",
   "execution_count": 49,
   "id": "b2d636d7",
   "metadata": {},
   "outputs": [
    {
     "name": "stdout",
     "output_type": "stream",
     "text": [
      "do you want to play?yes\n",
      "\n",
      "1. what does CPU stand for? central processing unit\n",
      "correct! you got 1 point\n",
      "\n",
      "2. what does GPU stand for? graphic processing unit\n",
      "Incorrect!\n",
      "current answer is --> graphics processing unit\n",
      "\n",
      "number of question is 2\n",
      "your score is 1\n"
     ]
    }
   ],
   "source": [
    "#  Write a program that simulates a basic quiz game with multiple-choice questions and scoring.\n",
    "que_number=0\n",
    "score=0\n",
    "play=input(\"do you want to play?\").lower()\n",
    "if play==\"yes\":\n",
    "    que_number=que_number+1\n",
    "    ques = input(f'\\n{que_number}. what does CPU stand for? ').lower()\n",
    "    if ques == 'central processing unit':\n",
    "        score +=1\n",
    "        print('correct! you got 1 point')\n",
    "    else:\n",
    "        print('Incorrect!')\n",
    "        print(f'current answer is --> central processing unit')\n",
    "    que_number=que_number+1\n",
    "    ques = input(f'\\n{que_number}. what does GPU stand for? ').lower()\n",
    "    \n",
    "    if ques == 'graphics processing unit':\n",
    "        score +=1\n",
    "        print('correct! you got 1 point')\n",
    "        \n",
    "    else:\n",
    "        print('Incorrect!')\n",
    "        print(f'current answer is --> graphics processing unit')\n",
    "else:\n",
    "    print('thankyou you are out of a game.')\n",
    "    quit()\n",
    "\n",
    "print(f'\\nnumber of question is {que_number}')\n",
    "print(f'your score is {score}')\n",
    "try:\n",
    "    percentage = (score *100)/que_number\n",
    "except ZeroDivisionError:\n",
    "    print('0% quetions are correct')"
   ]
  },
  {
   "cell_type": "code",
   "execution_count": 47,
   "id": "4bea214b",
   "metadata": {},
   "outputs": [
    {
     "name": "stdout",
     "output_type": "stream",
     "text": [
      "2000 is not a prime year\n"
     ]
    }
   ],
   "source": [
    "#  Develop a program that determines whether a given year is a prime yearber or not.\n",
    "year = 2000\n",
    "# If given yearber is greater than 1\n",
    "if year > 1:\n",
    "\t# Iterate from 2 to n / 2\n",
    "\tfor i in range(2, int(year/2)+1):\n",
    "\t\t# If year is divisible by any yearber between\n",
    "\t\t# 2 and n / 2, it is not prime\n",
    "\t\tif (year % i) == 0:\n",
    "\t\t\tprint(year, \"is not a prime year\")\n",
    "\t\t\tbreak\n",
    "\telse:\n",
    "\t\tprint(year, \"is a prime year\")\n",
    "else:\n",
    "\tprint(year, \"is not a prime year\")"
   ]
  },
  {
   "cell_type": "code",
   "execution_count": 44,
   "id": "217fd87b",
   "metadata": {},
   "outputs": [
    {
     "name": "stdout",
     "output_type": "stream",
     "text": [
      "Enter First number : 5\n",
      "Enter Second number : 3\n",
      "Enter Third number : 1\n",
      "Numbers in ascending order are :  1 3 5\n"
     ]
    }
   ],
   "source": [
    "#  Create a program that sorts three numbers in ascending order using conditional statements.\n",
    "n1=int(input(\"Enter First number : \"))\n",
    "n2=int(input(\"Enter Second number : \"))\n",
    "n3=int(input(\"Enter Third number : \"))\n",
    "if n1<n2 and n1<n3:\n",
    "    if n2<n3:\n",
    "        x,y,z=n1,n2,n3\n",
    "    else:\n",
    "        x,y,z=n1,n3,n2\n",
    "elif n2<n1 and n2<n3:\n",
    "    if n1<n3:\n",
    "        x,y,z=n2,n1,n3\n",
    "    else:\n",
    "        x,y,z=n2,n3,n1\n",
    "else:\n",
    "    if n1<n2:\n",
    "        x,y,z=n3,n1,n2\n",
    "    else:\n",
    "        x,y,z=n3,n2,n1\n",
    "print(\"Numbers in ascending order are : \",x,y,z)"
   ]
  },
  {
   "cell_type": "code",
   "execution_count": 45,
   "id": "d92484d1",
   "metadata": {},
   "outputs": [
    {
     "name": "stdout",
     "output_type": "stream",
     "text": [
      "Roots are complex and different\n",
      "Root 1: 1.0 + 0.7071067811865476 i\n",
      "Root 2: 1.0 - 0.7071067811865476 i\n"
     ]
    }
   ],
   "source": [
    "#  Build a program that determines the roots of a quartic equation using numerical methods.\n",
    "import math\n",
    "\n",
    "a = 2\n",
    "b = -4\n",
    "c = 3\n",
    "\n",
    "# Calculate the discriminant\n",
    "discriminant = b ** 2 - 4 * a * c\n",
    "\n",
    "if discriminant > 0:\n",
    "\troot1 = (-b + math.sqrt(discriminant)) / (2 * a)\n",
    "\troot2 = (-b - math.sqrt(discriminant)) / (2 * a)\n",
    "\tprint(\"Roots are real and distinct\")\n",
    "\tprint(\"Root 1:\", root1)\n",
    "\tprint(\"Root 2:\", root2)\n",
    "elif discriminant == 0:\n",
    "\troot = -b / (2 * a)\n",
    "\tprint(\"Roots are real and same\")\n",
    "\tprint(\"Root:\", root)\n",
    "else:\n",
    "\trealPart = -b / (2 * a)\n",
    "\timaginaryPart = math.sqrt(-discriminant) / (2 * a)\n",
    "\tprint(\"Roots are complex and different\")\n",
    "\tprint(\"Root 1:\", realPart, \"+\", imaginaryPart, \"i\")\n",
    "\tprint(\"Root 2:\", realPart, \"-\", imaginaryPart, \"i\")"
   ]
  },
  {
   "cell_type": "code",
   "execution_count": 41,
   "id": "32f1e75e",
   "metadata": {},
   "outputs": [
    {
     "name": "stdout",
     "output_type": "stream",
     "text": [
      "Enter your height in meters: 1.6764\n",
      "Enter your weight in kg: 68\n",
      "Welcome to the BMI calculator.\n",
      "Your BMI is:  24.2\n",
      "Your weight is normal.keep your diet like these\n"
     ]
    }
   ],
   "source": [
    "#  Write a program that calculates the BMI (Body Mass Index) and provides health recommendations based on the user's input\n",
    "def bodymassindex(height, weight):\n",
    "    return round((weight / height**2),2)\n",
    "\n",
    "h = float(input(\"Enter your height in meters: \"))\n",
    "w = float(input(\"Enter your weight in kg: \"))\n",
    "\n",
    "print(\"Welcome to the BMI calculator.\")\n",
    "\n",
    "bmi = bodymassindex(h, w)\n",
    "print(\"Your BMI is: \", bmi)\n",
    "\n",
    "if bmi <= 18.5:\n",
    "    print(\"You are underweight.please eat\")\n",
    "elif 18.5 < bmi <= 24.9:\n",
    "    print(\"Your weight is normal.keep your diet like these\")\n",
    "elif 25 < bmi <= 29.29:\n",
    "    print(\"You are overweight.please do exercise\")\n",
    "else:\n",
    "    print(\"You are obese.please do exercise and eat healthy food\") "
   ]
  },
  {
   "cell_type": "code",
   "execution_count": 38,
   "id": "742a4284",
   "metadata": {},
   "outputs": [
    {
     "name": "stdout",
     "output_type": "stream",
     "text": [
      "Abc@123\n",
      "Password is valid\n"
     ]
    }
   ],
   "source": [
    "#  Create a program that validates a password based on complexity rules (length, characters, etc.).\n",
    "def password_check(passwd):\n",
    "        \n",
    "    SpecialSym =['$', '@', '#', '%']\n",
    "    val = True\n",
    "    \n",
    "    if len(passwd) < 6:\n",
    "        print('length should be at least 6')\n",
    "        val = False\n",
    "\n",
    "    if len(passwd) > 20:\n",
    "        print('length should be not be greater than 8')\n",
    "        val = False\n",
    "\n",
    "    if not any(char.isdigit() for char in passwd):\n",
    "        print('Password should have at least one numeral')\n",
    "        val = False\n",
    "\n",
    "    if not any(char.isupper() for char in passwd):\n",
    "        print('Password should have at least one uppercase letter')\n",
    "        val = False\n",
    "\n",
    "    if not any(char.islower() for char in passwd):\n",
    "        print('Password should have at least one lowercase letter')\n",
    "        val = False\n",
    "\n",
    "    if not any(char in SpecialSym for char in passwd):\n",
    "        print('Password should have at least one of the symbols $@#')\n",
    "        val = False\n",
    "    if val:\n",
    "        return val\n",
    "\n",
    "passwd=input()\n",
    "if (password_check(passwd)):\n",
    "    print(\"Password is valid\")\n",
    "else:\n",
    "    print(\"Invalid Password !!\")"
   ]
  },
  {
   "cell_type": "code",
   "execution_count": 37,
   "id": "885aa534",
   "metadata": {},
   "outputs": [
    {
     "name": "stdout",
     "output_type": "stream",
     "text": [
      "Addition of two matrix\n",
      "5 7 \n",
      "9 11 \n",
      "Subtraction of two matrix\n",
      "-3 -3 \n",
      "-3 -3 \n"
     ]
    }
   ],
   "source": [
    "#  Develop a program that performs matrix addition and subtraction based on user input.\n",
    "# Input matrices\n",
    "matrix1 = [[1, 2], [3, 4]]\n",
    "matrix2 = [[4, 5], [6, 7]]\n",
    "result = [[0, 0], [0, 0]]\n",
    "for i in range(len(matrix1)):\n",
    "    for j in range(len(matrix1[0])):\n",
    "        result[i][j] = matrix1[i][j] + matrix2[i][j]\n",
    "result1= [[0, 0], [0, 0]]\n",
    "for i in range(len(matrix1)):\n",
    "    for j in range(len(matrix1[0])):\n",
    "        result1[i][j] = matrix1[i][j] - matrix2[i][j]\n",
    "print(\"Addition of two matrix\")\n",
    "for row in result:\n",
    "    for element in row:\n",
    "        print(element, end=\" \")\n",
    "    print()\n",
    "print(\"Subtraction of two matrix\")\n",
    "for row in result1:\n",
    "    for element in row:\n",
    "        print(element, end=\" \")\n",
    "    print()"
   ]
  },
  {
   "cell_type": "code",
   "execution_count": 33,
   "id": "89d4ecde",
   "metadata": {},
   "outputs": [
    {
     "name": "stdout",
     "output_type": "stream",
     "text": [
      "2\n"
     ]
    }
   ],
   "source": [
    "#  Write a program that calculates the greatest common divisor (GCD) of two numbers using the Euclidean algorithm\n",
    "def gcd(m,n):\n",
    "    if m< n:\n",
    "        (m,n) = (n,m)\n",
    "    if(m%n) == 0:\n",
    "        return n\n",
    "    else:\n",
    "        return (gcd(n, m % n)) # recursion taking place\n",
    "\n",
    "# calling function with parameters and printing it out\n",
    "print(gcd(2,16))"
   ]
  },
  {
   "cell_type": "code",
   "execution_count": 31,
   "id": "fcfece59",
   "metadata": {},
   "outputs": [
    {
     "name": "stdout",
     "output_type": "stream",
     "text": [
      "[28, 34, 40, 46]\n",
      "[64, 79, 94, 109]\n",
      "[100, 124, 148, 172]\n"
     ]
    }
   ],
   "source": [
    "#  Build a program that performs matrix multiplication using nested loops and conditional statements\n",
    "# 3x3 matrix\n",
    "X = [[1,2,3],\n",
    "    [4 ,5,6],\n",
    "    [7 ,8,9]]\n",
    "# 3x4 matrix\n",
    "Y = [[2,3,4,5],\n",
    "    [4,5,6,7],\n",
    "    [6,7,8,9]]\n",
    "# result is 3x4\n",
    "result = [[0,0,0,0],\n",
    "         [0,0,0,0],\n",
    "         [0,0,0,0]]\n",
    "\n",
    "# iterate through rows of X\n",
    "for i in range(len(X)):\n",
    "   # iterate through columns of Y\n",
    "   for j in range(len(Y[0])):\n",
    "       # iterate through rows of Y\n",
    "       for k in range(len(Y)):\n",
    "           result[i][j] += X[i][k] * Y[k][j]\n",
    "\n",
    "for r in result:\n",
    "   print(r)"
   ]
  },
  {
   "cell_type": "code",
   "execution_count": 27,
   "id": "2d000469",
   "metadata": {},
   "outputs": [
    {
     "name": "stdout",
     "output_type": "stream",
     "text": [
      "Fibonacci Series: 0 1 1 2 3 5 8 13 21 34 "
     ]
    }
   ],
   "source": [
    "#  Write a program that generates Fibonacci numbers up to a specified term using iterative methods.\n",
    "def fibonacciSeries(i):\n",
    "    if i <= 1:\n",
    "        return i\n",
    "    else:\n",
    "        return (fibonacciSeries(i - 1) + fibonacciSeries(i - 2))\n",
    "\n",
    "num=10\n",
    "if num <=0:\n",
    "    print(\"Please enter a Positive Number\")\n",
    "else:\n",
    "    print(\"Fibonacci Series:\", end=\" \")\n",
    "for i in range(num):\n",
    "    print(fibonacciSeries(i), end=\" \")"
   ]
  },
  {
   "cell_type": "code",
   "execution_count": 26,
   "id": "bb69850d",
   "metadata": {},
   "outputs": [
    {
     "name": "stdout",
     "output_type": "stream",
     "text": [
      "34\n"
     ]
    }
   ],
   "source": [
    "#  Develop a program that calculates the nth term of the Fibonacci sequence using memoization.\n",
    "def Fibonacci(n):\n",
    "\tif n<= 0:\n",
    "\t\tprint(\"Incorrect input\")\n",
    "\telif n == 1:\n",
    "\t\treturn 0\n",
    "\telif n == 2:\n",
    "\t\treturn 1\n",
    "\telse:\n",
    "\t\treturn Fibonacci(n-1)+Fibonacci(n-2)\n",
    "print(Fibonacci(10))"
   ]
  },
  {
   "cell_type": "code",
   "execution_count": 25,
   "id": "f85d28f4",
   "metadata": {},
   "outputs": [
    {
     "name": "stdout",
     "output_type": "stream",
     "text": [
      "Enter a year (e.g., 2023): 2023\n",
      "Enter a month (1-12): 10\n",
      "Calendar for October 2023:\n",
      "    October 2023\n",
      "Mo Tu We Th Fr Sa Su\n",
      "                   1\n",
      " 2  3  4  5  6  7  8\n",
      " 9 10 11 12 13 14 15\n",
      "16 17 18 19 20 21 22\n",
      "23 24 25 26 27 28 29\n",
      "30 31\n",
      "\n"
     ]
    }
   ],
   "source": [
    "#  Create a program that generates a calendar for a given month and year using conditional statements\n",
    "import calendar\n",
    "\n",
    "def generate_calendar(year, month):\n",
    "    # Create a calendar object\n",
    "    cal = calendar.month(year, month)\n",
    "\n",
    "    # Print the calendar\n",
    "    print(f\"Calendar for {calendar.month_name[month]} {year}:\")\n",
    "    print(cal)\n",
    "\n",
    "# Input year and month from the user\n",
    "year = int(input(\"Enter a year (e.g., 2023): \"))\n",
    "month = int(input(\"Enter a month (1-12): \"))\n",
    "\n",
    "# Check for valid month input\n",
    "if 1 <= month <= 12:\n",
    "    generate_calendar(year, month)\n",
    "else:\n",
    "    print(\"Invalid month. Please enter a number between 1 and 12.\")"
   ]
  },
  {
   "cell_type": "code",
   "execution_count": 23,
   "id": "ba145719",
   "metadata": {},
   "outputs": [
    {
     "name": "stdout",
     "output_type": "stream",
     "text": [
      "Enter a number: 98\n",
      "Prime factors of 98 are: [2, 7, 7]\n"
     ]
    }
   ],
   "source": [
    "#  Write a program that generates the prime factors of a given number using trial division.\n",
    "def prime_factors(n):\n",
    "    factors = []\n",
    "    divisor = 2\n",
    "\n",
    "    while n > 1:\n",
    "        while n % divisor == 0:\n",
    "            factors.append(divisor)\n",
    "            n //= divisor\n",
    "        divisor += 1\n",
    "\n",
    "    return factors\n",
    "\n",
    "# Input from the user\n",
    "num = int(input(\"Enter a number: \"))\n",
    "\n",
    "if num < 2:\n",
    "    print(\"Prime factors are not defined for numbers less than 2.\")\n",
    "else:\n",
    "    factors = prime_factors(num)\n",
    "    print(\"Prime factors of\", num, \"are:\", factors)"
   ]
  },
  {
   "cell_type": "code",
   "execution_count": null,
   "id": "6121bcc1",
   "metadata": {},
   "outputs": [],
   "source": []
  },
  {
   "cell_type": "code",
   "execution_count": null,
   "id": "40ab2e4b",
   "metadata": {},
   "outputs": [],
   "source": []
  }
 ],
 "metadata": {
  "kernelspec": {
   "display_name": "Python 3 (ipykernel)",
   "language": "python",
   "name": "python3"
  },
  "language_info": {
   "codemirror_mode": {
    "name": "ipython",
    "version": 3
   },
   "file_extension": ".py",
   "mimetype": "text/x-python",
   "name": "python",
   "nbconvert_exporter": "python",
   "pygments_lexer": "ipython3",
   "version": "3.9.7"
  }
 },
 "nbformat": 4,
 "nbformat_minor": 5
}
